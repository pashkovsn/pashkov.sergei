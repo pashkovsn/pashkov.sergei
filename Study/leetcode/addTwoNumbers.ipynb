{
 "cells": [
  {
   "cell_type": "markdown",
   "metadata": {},
   "source": [
    "You are given two non-empty linked lists representing two non-negative integers. The digits are stored in reverse order, and each of their nodes contains a single digit. Add the two numbers and return the sum as a linked list.\n",
    "\n",
    "You may assume the two numbers do not contain any leading zero, except the number 0 itself.\n",
    "\n",
    "Input: l1 = [2,4,3], l2 = [5,6,4]\n",
    "Output: [7,0,8]\n",
    "Explanation: 342 + 465 = 807.\n",
    "Example 2:\n",
    "\n",
    "Input: l1 = [0], l2 = [0]\n",
    "Output: [0]\n",
    "Example 3:\n",
    "\n",
    "Input: l1 = [9,9,9,9,9,9,9], l2 = [9,9,9,9]\n",
    "Output: [8,9,9,9,0,0,0,1]"
   ]
  },
  {
   "cell_type": "code",
   "execution_count": 37,
   "metadata": {},
   "outputs": [],
   "source": [
    "# l1 = [2,4,3]\n",
    "# l2 = [5,6,4]\n",
    "\n",
    "# l1 = [0]\n",
    "# l2 = [0]\n",
    "\n",
    "l1 = [9,9,9,9,9,9,9]\n",
    "l2 = [9,9,9,9]"
   ]
  },
  {
   "cell_type": "code",
   "execution_count": 32,
   "metadata": {},
   "outputs": [],
   "source": [
    "def addTwoNumbers(l1, l2):\n",
    "\n",
    "    result = []\n",
    "\n",
    "    l1_ = 0\n",
    "    l2_ = 0\n",
    "\n",
    "    for i in range(len(l1)):\n",
    "        l1_ += (int(l1[-i-1]))*10**(len(l1)-i-1)\n",
    "        \n",
    "    for i in range(len(l2)):\n",
    "        l2_ += (int(l2[-i-1]))*10**(len(l2)-i-1)\n",
    "        \n",
    "    l1_ = l1_ + l2_\n",
    "\n",
    "    while l1_ // 10 > 0:\n",
    "        result.append(l1_ % 10)\n",
    "        l1_ = l1_ // 10 \n",
    "\n",
    "    result.append(l1_)\n",
    "\n",
    "    if l1[0] == 0 and l2[0] == 0:\n",
    "        result = [0]\n",
    "        \n",
    "    if len(l1) == 1 and l1[0] == 0:\n",
    "        result = l2\n",
    "        \n",
    "    if len(l2) == 1 and l2[0] == 0:\n",
    "        result = l1\n",
    "\n",
    "    return result "
   ]
  },
  {
   "cell_type": "code",
   "execution_count": 38,
   "metadata": {},
   "outputs": [
    {
     "name": "stdout",
     "output_type": "stream",
     "text": [
      "[8, 9, 9, 9, 0, 0, 0, 1]\n"
     ]
    }
   ],
   "source": [
    "print(addTwoNumbers(l1,l2))"
   ]
  }
 ],
 "metadata": {
  "kernelspec": {
   "display_name": "base",
   "language": "python",
   "name": "python3"
  },
  "language_info": {
   "codemirror_mode": {
    "name": "ipython",
    "version": 3
   },
   "file_extension": ".py",
   "mimetype": "text/x-python",
   "name": "python",
   "nbconvert_exporter": "python",
   "pygments_lexer": "ipython3",
   "version": "3.9.12"
  }
 },
 "nbformat": 4,
 "nbformat_minor": 2
}
