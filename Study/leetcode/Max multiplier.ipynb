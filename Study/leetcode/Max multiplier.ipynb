{
 "cells": [
  {
   "cell_type": "markdown",
   "metadata": {
    "vscode": {
     "languageId": "plaintext"
    }
   },
   "source": [
    "Найти наибольшее произведение непрерывной последовательности\n",
    "Ввод nums = [2, 2, 3, -2, 4]"
   ]
  },
  {
   "cell_type": "code",
   "execution_count": 11,
   "metadata": {},
   "outputs": [
    {
     "data": {
      "text/plain": [
       "12"
      ]
     },
     "execution_count": 11,
     "metadata": {},
     "output_type": "execute_result"
    }
   ],
   "source": [
    "def most_multiplier(nums):\n",
    "\n",
    "    if not nums:\n",
    "        print('The list is empty')\n",
    "\n",
    "    max_prod = nums[0]\n",
    "    min_prod = nums[0]\n",
    "    result = nums[0]\n",
    "\n",
    "    for i in range(1,len(nums)):\n",
    "        num = nums[i]\n",
    "\n",
    "        if num < 0:\n",
    "            max_prod, min_prod = min_prod, max_prod\n",
    "        \n",
    "        max_prod = max(max_prod, max_prod * num)\n",
    "        min_prod = min(min_prod, min_prod * num)\n",
    "\n",
    "        result = max_prod if max_prod > result else result\n",
    "\n",
    "    return result\n",
    "\n",
    "most_multiplier([2,2,3,0,-1])"
   ]
  }
 ],
 "metadata": {
  "kernelspec": {
   "display_name": "base",
   "language": "python",
   "name": "python3"
  },
  "language_info": {
   "codemirror_mode": {
    "name": "ipython",
    "version": 3
   },
   "file_extension": ".py",
   "mimetype": "text/x-python",
   "name": "python",
   "nbconvert_exporter": "python",
   "pygments_lexer": "ipython3",
   "version": "3.9.12"
  }
 },
 "nbformat": 4,
 "nbformat_minor": 2
}
