{
 "cells": [
  {
   "cell_type": "code",
   "execution_count": 1,
   "metadata": {},
   "outputs": [],
   "source": [
    "def primes_list(n: int):\n",
    "\t\n",
    "\tlst = [1]\n",
    "    \n",
    "\tk = 0\n",
    "\ti = 1\n",
    "\t\n",
    "\tfor j in range(1,n+1):\n",
    "\t\twhile i <= j:\n",
    "\t\t\tif j % i == 0:\n",
    "\t\t\t\tk += 1\n",
    "\t\t\t\tif j == i and k == 2:\n",
    "\t\t\t\t\tlst.append(j)\n",
    "\t\t\t\t\t\n",
    "\t\t\ti += 1\n",
    "\t\tk = 0\n",
    "\t\ti = 1\n",
    "\t\t\n",
    "\treturn lst"
   ]
  },
  {
   "cell_type": "code",
   "execution_count": 2,
   "metadata": {},
   "outputs": [
    {
     "data": {
      "text/plain": [
       "[1, 2]"
      ]
     },
     "execution_count": 2,
     "metadata": {},
     "output_type": "execute_result"
    }
   ],
   "source": [
    "primes_list(2)"
   ]
  }
 ],
 "metadata": {
  "kernelspec": {
   "display_name": "base",
   "language": "python",
   "name": "python3"
  },
  "language_info": {
   "codemirror_mode": {
    "name": "ipython",
    "version": 3
   },
   "file_extension": ".py",
   "mimetype": "text/x-python",
   "name": "python",
   "nbconvert_exporter": "python",
   "pygments_lexer": "ipython3",
   "version": "3.9.12"
  }
 },
 "nbformat": 4,
 "nbformat_minor": 2
}
