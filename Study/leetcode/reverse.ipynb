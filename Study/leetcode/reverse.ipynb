{
 "cells": [
  {
   "cell_type": "markdown",
   "metadata": {},
   "source": [
    "Given a signed 32-bit integer x, return x with its digits reversed. If reversing x causes the value to go outside the signed 32-bit integer range [-231, 231 - 1], then return 0.\n",
    "\n",
    "Assume the environment does not allow you to store 64-bit integers (signed or unsigned).\n",
    "\n",
    "Example 1:\n",
    "Input: x = 123\n",
    "Output: 321\n",
    "\n",
    "Example 2:\n",
    "Input: x = -123\n",
    "Output: -321\n",
    "\n",
    "Example 3:\n",
    "Input: x = 120\n",
    "Output: 21"
   ]
  },
  {
   "cell_type": "code",
   "execution_count": 14,
   "metadata": {},
   "outputs": [],
   "source": [
    "def reverse(x: int):\n",
    "\n",
    "    lst = []\n",
    "\n",
    "    result = 0\n",
    "\n",
    "    if x < 0:\n",
    "        multiplyer = -1\n",
    "    elif x == 0:\n",
    "        multiplyer = 0\n",
    "    else:\n",
    "        multiplyer = 1\n",
    "        \n",
    "    x = abs(x)\n",
    "\n",
    "    i = 0\n",
    "    while x // 10 > 0:\n",
    "        lst.append(x % 10)\n",
    "        x = x // 10\n",
    "        i += 1\n",
    "\n",
    "    lst.append(x % 10)\n",
    "\n",
    "    i = 0\n",
    "    if not x:\n",
    "        result = 0\n",
    "    else:\n",
    "        while lst[i] == 0:\n",
    "            i += 1\n",
    "        else:\n",
    "            lst = lst[i:]\n",
    "        \n",
    "    for j in range(len(lst)):\n",
    "        if j != len(lst)-1:\n",
    "            result = result + lst[j]*10**(len(lst)-j-1) \n",
    "        else:\n",
    "            result = result + lst[j]\n",
    "            \n",
    "    result *= multiplyer\n",
    "\n",
    "    if result < -2**31 or result > 2**31-1:\n",
    "        result = 0\n",
    "\n",
    "    return result"
   ]
  },
  {
   "cell_type": "code",
   "execution_count": 12,
   "metadata": {},
   "outputs": [],
   "source": [
    "# x = 123\n",
    "# x = -123\n",
    "x = 120"
   ]
  },
  {
   "cell_type": "code",
   "execution_count": 15,
   "metadata": {},
   "outputs": [
    {
     "name": "stdout",
     "output_type": "stream",
     "text": [
      "21\n"
     ]
    }
   ],
   "source": [
    "print(reverse(x))"
   ]
  }
 ],
 "metadata": {
  "kernelspec": {
   "display_name": "base",
   "language": "python",
   "name": "python3"
  },
  "language_info": {
   "codemirror_mode": {
    "name": "ipython",
    "version": 3
   },
   "file_extension": ".py",
   "mimetype": "text/x-python",
   "name": "python",
   "nbconvert_exporter": "python",
   "pygments_lexer": "ipython3",
   "version": "3.9.12"
  }
 },
 "nbformat": 4,
 "nbformat_minor": 2
}
