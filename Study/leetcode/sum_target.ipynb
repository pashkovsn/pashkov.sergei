{
 "cells": [
  {
   "cell_type": "code",
   "execution_count": 1,
   "metadata": {},
   "outputs": [],
   "source": [
    "nums = [3,2,4]\n",
    "target = 6"
   ]
  },
  {
   "cell_type": "code",
   "execution_count": 30,
   "metadata": {},
   "outputs": [],
   "source": [
    "def sum_target(nums: list, target: int):\n",
    "\n",
    "    end_list = []\n",
    "\n",
    "    i = 0\n",
    "    j = 1\n",
    "    while i <= len(nums)-2:\n",
    "        while j <= len(nums)-1:\n",
    "            if nums[i] + nums[j] == target:\n",
    "                end_list =  [i,j]\n",
    "                break\n",
    "            j += 1\n",
    "        i += 1\n",
    "        j = i + 1\n",
    "    return end_list"
   ]
  },
  {
   "cell_type": "code",
   "execution_count": 31,
   "metadata": {},
   "outputs": [
    {
     "data": {
      "text/plain": [
       "[1, 2]"
      ]
     },
     "execution_count": 31,
     "metadata": {},
     "output_type": "execute_result"
    }
   ],
   "source": [
    "sum_target(nums, target)"
   ]
  },
  {
   "cell_type": "code",
   "execution_count": 38,
   "metadata": {},
   "outputs": [],
   "source": [
    "def twoSum(nums: list, target: int):\n",
    "    map = {}\n",
    "\n",
    "    for i, num in enumerate(nums):\n",
    "        diff = target - num\n",
    "        if diff in map:\n",
    "            return [i,map[diff]]\n",
    "        map[num] = i"
   ]
  },
  {
   "cell_type": "code",
   "execution_count": 39,
   "metadata": {},
   "outputs": [
    {
     "name": "stdout",
     "output_type": "stream",
     "text": [
      "[2, 1]\n"
     ]
    }
   ],
   "source": [
    "my_list = twoSum(nums, target)\n",
    "print(my_list)"
   ]
  }
 ],
 "metadata": {
  "kernelspec": {
   "display_name": "base",
   "language": "python",
   "name": "python3"
  },
  "language_info": {
   "codemirror_mode": {
    "name": "ipython",
    "version": 3
   },
   "file_extension": ".py",
   "mimetype": "text/x-python",
   "name": "python",
   "nbconvert_exporter": "python",
   "pygments_lexer": "ipython3",
   "version": "3.9.12"
  }
 },
 "nbformat": 4,
 "nbformat_minor": 2
}
