{
 "cells": [
  {
   "cell_type": "markdown",
   "metadata": {},
   "source": [
    "Дана строка s, необходимо найти максимальную длину непрерывной последовательности без повторяющихся элементов"
   ]
  },
  {
   "cell_type": "code",
   "execution_count": 12,
   "metadata": {},
   "outputs": [
    {
     "data": {
      "text/plain": [
       "4"
      ]
     },
     "execution_count": 12,
     "metadata": {},
     "output_type": "execute_result"
    }
   ],
   "source": [
    "def most_string(s: str):\n",
    "    \n",
    "    my_string = s[0]\n",
    "    max_string = 1\n",
    "    result = 1\n",
    "\n",
    "    for i in range(1,len(s)):\n",
    "        if s[i] not in set(my_string):\n",
    "            result += 1\n",
    "            my_string = my_string + s[i]\n",
    "        else:\n",
    "            result = 1\n",
    "            my_string = s[i]\n",
    "        max_string = max(max_string, result)\n",
    "    \n",
    "    return max_string\n",
    "\n",
    "\n",
    "most_string('abcdabcbb')"
   ]
  }
 ],
 "metadata": {
  "kernelspec": {
   "display_name": "base",
   "language": "python",
   "name": "python3"
  },
  "language_info": {
   "codemirror_mode": {
    "name": "ipython",
    "version": 3
   },
   "file_extension": ".py",
   "mimetype": "text/x-python",
   "name": "python",
   "nbconvert_exporter": "python",
   "pygments_lexer": "ipython3",
   "version": "3.9.12"
  }
 },
 "nbformat": 4,
 "nbformat_minor": 2
}
