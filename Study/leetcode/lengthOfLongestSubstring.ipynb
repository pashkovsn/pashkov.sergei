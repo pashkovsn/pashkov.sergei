{
 "cells": [
  {
   "cell_type": "markdown",
   "metadata": {},
   "source": [
    "Given a string s, find the length of the longest \n",
    "substring\n",
    " without repeating characters.\n",
    "\n",
    "Example 1:\n",
    "Input: s = \"abcabcbb\"\n",
    "Output: 3\n",
    "Explanation: The answer is \"abc\", with the length of 3.\n",
    "\n",
    "Example 2:\n",
    "Input: s = \"bbbbb\"\n",
    "Output: 1\n",
    "Explanation: The answer is \"b\", with the length of 1.\n",
    "\n",
    "Example 3:\n",
    "Input: s = \"pwwkew\"\n",
    "Output: 3\n",
    "Explanation: The answer is \"wke\", with the length of 3.\n",
    "Notice that the answer must be a substring, \"pwke\" is a subsequence and not a substring."
   ]
  },
  {
   "cell_type": "code",
   "execution_count": 166,
   "metadata": {},
   "outputs": [],
   "source": [
    "# s = \"abcabcbb\"\n",
    "# s = \"bbbbb\"\n",
    "# s = \"pwwkew\"\n",
    "# s = \"au\"\n",
    "# s = \"aab\"\n",
    "# s = \"bwf\"\n",
    "s = \"dwdf\""
   ]
  },
  {
   "cell_type": "code",
   "execution_count": 160,
   "metadata": {},
   "outputs": [],
   "source": [
    "def lengthOfLongestSubstring(s: str):\n",
    "    length = 1\n",
    "    length_2 = 0\n",
    "\t\n",
    "    for i in range(len(s)-1):\n",
    "        for j in range(i+1,len(s)):\n",
    "            if j == i + 1 and s[j] != s[i]:\n",
    "                length_2 = 2\n",
    "                length = max(j - i, length, length_2)\n",
    "            elif s[j] not in s[i:j]:\n",
    "                if j != len(s)-1:\n",
    "                    continue\n",
    "                else:\n",
    "                    length = max(j - i + 1, length, length_2)\n",
    "            else:\n",
    "                length = max(j - i, length, length_2)\n",
    "                break\n",
    "                \n",
    "    if not s:\n",
    "        length = 0\n",
    "        \n",
    "    if len(s) == 1:\n",
    "        length = 1\n",
    "    \n",
    "    if s and s[0]==set(s):\n",
    "        length = 1\n",
    "\n",
    "    if len(s) == len(set(s)):\n",
    "        length = len(s)\n",
    "\n",
    "    return length"
   ]
  },
  {
   "cell_type": "code",
   "execution_count": 161,
   "metadata": {},
   "outputs": [
    {
     "name": "stdout",
     "output_type": "stream",
     "text": [
      "2\n"
     ]
    }
   ],
   "source": [
    "print(lengthOfLongestSubstring(s))"
   ]
  },
  {
   "cell_type": "code",
   "execution_count": 164,
   "metadata": {},
   "outputs": [],
   "source": [
    "def lengthOfLongestSubstring(s: str):\n",
    "        left = 0\n",
    "        longest = 0\n",
    "        \n",
    "        last_index_dict = {}\n",
    "        for right, letter in enumerate(s):\n",
    "            if letter in last_index_dict and last_index_dict[letter] > left:\n",
    "                left = last_index_dict[letter]\n",
    "            last_index_dict[letter] = right + 1\n",
    "            longest = longest if longest > right-left+1 else right-left+1\n",
    "        return longest"
   ]
  },
  {
   "cell_type": "code",
   "execution_count": 167,
   "metadata": {},
   "outputs": [
    {
     "name": "stdout",
     "output_type": "stream",
     "text": [
      "3\n"
     ]
    }
   ],
   "source": [
    "print(lengthOfLongestSubstring(s))"
   ]
  }
 ],
 "metadata": {
  "kernelspec": {
   "display_name": "base",
   "language": "python",
   "name": "python3"
  },
  "language_info": {
   "codemirror_mode": {
    "name": "ipython",
    "version": 3
   },
   "file_extension": ".py",
   "mimetype": "text/x-python",
   "name": "python",
   "nbconvert_exporter": "python",
   "pygments_lexer": "ipython3",
   "version": "3.9.12"
  }
 },
 "nbformat": 4,
 "nbformat_minor": 2
}
