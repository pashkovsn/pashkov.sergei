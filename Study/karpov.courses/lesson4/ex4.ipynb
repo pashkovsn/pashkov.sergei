{
 "cells": [
  {
   "cell_type": "code",
   "execution_count": 99,
   "metadata": {},
   "outputs": [],
   "source": [
    "import pandas as pd\n",
    "import os\n",
    "from datetime import datetime\n",
    "from scipy.stats import norm, ttest_ind\n",
    "import numpy as np\n",
    "from tqdm.notebook import tqdm\n",
    "\n",
    "import warnings\n",
    "warnings.filterwarnings('ignore')"
   ]
  },
  {
   "cell_type": "code",
   "execution_count": 100,
   "metadata": {},
   "outputs": [],
   "source": [
    "URL_BASE = 'https://raw.githubusercontent.com/pashkovsn/pashkov.sergei/refs/heads/main/Study/karpov.courses/lesson1/'\n",
    "\n",
    "\n",
    "def read_database(file_name):\n",
    "    return pd.read_csv(os.path.join(URL_BASE, file_name))"
   ]
  },
  {
   "cell_type": "code",
   "execution_count": 101,
   "metadata": {},
   "outputs": [
    {
     "name": "stdout",
     "output_type": "stream",
     "text": [
      "   sale_id                 date  count_pizza  count_drink  price user_id\n",
      "0  1000001  2022-02-04 10:00:24            1            0    720  1c1543\n",
      "1  1000002  2022-02-04 10:02:28            1            1    930  a9a6e8\n",
      "2  1000003  2022-02-04 10:02:35            3            1   1980  23420a\n",
      "3  1000004  2022-02-04 10:03:06            1            1    750  3e8ed5\n",
      "4  1000005  2022-02-04 10:03:23            1            1    870  cbc468\n"
     ]
    }
   ],
   "source": [
    "try:\n",
    "    df_sales = read_database('2022-04-01T12_df_sales.csv')\n",
    "    print(df_sales.head())\n",
    "except FileNotFoundError as e:\n",
    "    print(f\"File not found: {e}\")\n",
    "\n",
    "df_sales['date'] = pd.to_datetime(df_sales['date'])"
   ]
  },
  {
   "cell_type": "code",
   "execution_count": 102,
   "metadata": {},
   "outputs": [
    {
     "data": {
      "text/plain": [
       "(28718, 2)"
      ]
     },
     "execution_count": 102,
     "metadata": {},
     "output_type": "execute_result"
    }
   ],
   "source": [
    "df = df_sales[\n",
    "        (df_sales['date']>=datetime(2022,3,21)) & (df_sales['date']<datetime(2022,3,29))][['user_id','price']].groupby('user_id')['price'].sum().reset_index()\n",
    "df.shape"
   ]
  },
  {
   "cell_type": "code",
   "execution_count": 103,
   "metadata": {},
   "outputs": [],
   "source": [
    "df.fillna(0,inplace=True)"
   ]
  },
  {
   "cell_type": "code",
   "execution_count": 104,
   "metadata": {},
   "outputs": [],
   "source": [
    "def check_ttest(a, b, alpha=0.05):\n",
    "    \"\"\"Тест Стьюдента. Возвращает 1, если отличия значимы.\"\"\"\n",
    "    _, pvalue = ttest_ind(a, b)\n",
    "    return int(pvalue < alpha)"
   ]
  },
  {
   "cell_type": "code",
   "execution_count": 105,
   "metadata": {},
   "outputs": [
    {
     "name": "stdout",
     "output_type": "stream",
     "text": [
      "1222.656173828261\n",
      "804.0468730096542\n"
     ]
    }
   ],
   "source": [
    "mu = df['price'].mean()\n",
    "std = df['price'].std()\n",
    "print(mu)\n",
    "print(std)"
   ]
  },
  {
   "cell_type": "markdown",
   "metadata": {},
   "source": [
    "Добавление константы ко всем значениям"
   ]
  },
  {
   "cell_type": "code",
   "execution_count": 112,
   "metadata": {},
   "outputs": [
    {
     "data": {
      "application/vnd.jupyter.widget-view+json": {
       "model_id": "def537c8f6444cd19af2f71dc9f62871",
       "version_major": 2,
       "version_minor": 0
      },
      "text/plain": [
       "  0%|          | 0/1000 [00:00<?, ?it/s]"
      ]
     },
     "metadata": {},
     "output_type": "display_data"
    },
    {
     "name": "stdout",
     "output_type": "stream",
     "text": [
      "0.08099999999999996\n"
     ]
    }
   ],
   "source": [
    "alpha = 0.05\n",
    "users = df['user_id'].unique()\n",
    "\n",
    "result_ab = []\n",
    "for _ in tqdm(range(10000)):\n",
    "    np.random.shuffle(users)\n",
    "    sample_size = 1000\n",
    "    a, b = users[:sample_size], users[sample_size+1:sample_size*2]\n",
    "    group_a = df[df['user_id'].isin(a)]['price']\n",
    "    group_b = df[df['user_id'].isin(b)]['price']+mu*0.1\n",
    "    result_ab.append(check_ttest(group_a, group_b, alpha))\n",
    "second_errors = (1 - np.mean(result_ab))\n",
    "print(second_errors)"
   ]
  },
  {
   "cell_type": "markdown",
   "metadata": {},
   "source": [
    "Умножение на константу"
   ]
  },
  {
   "cell_type": "code",
   "execution_count": 122,
   "metadata": {},
   "outputs": [
    {
     "data": {
      "application/vnd.jupyter.widget-view+json": {
       "model_id": "36a7ba84da29491b81c00b1b0f379984",
       "version_major": 2,
       "version_minor": 0
      },
      "text/plain": [
       "  0%|          | 0/10000 [00:00<?, ?it/s]"
      ]
     },
     "metadata": {},
     "output_type": "display_data"
    },
    {
     "name": "stdout",
     "output_type": "stream",
     "text": [
      "0.09819999999999995\n"
     ]
    }
   ],
   "source": [
    "alpha = 0.05\n",
    "users = df['user_id'].unique()\n",
    "\n",
    "result_ab = []\n",
    "for _ in tqdm(range(10000)):\n",
    "    np.random.shuffle(users)\n",
    "    sample_size = 1000\n",
    "    a, b = users[:sample_size], users[sample_size+1:sample_size*2]\n",
    "    group_a = df[df['user_id'].isin(a)]['price']\n",
    "    group_b = df[df['user_id'].isin(b)]['price']*(1.1)\n",
    "    result_ab.append(check_ttest(group_a, group_b, alpha))\n",
    "second_errors = (1 - np.mean(result_ab))\n",
    "print(second_errors)"
   ]
  },
  {
   "cell_type": "markdown",
   "metadata": {},
   "source": [
    "Добавление константы к 2.5% значений"
   ]
  },
  {
   "cell_type": "code",
   "execution_count": 121,
   "metadata": {},
   "outputs": [
    {
     "data": {
      "application/vnd.jupyter.widget-view+json": {
       "model_id": "70186d134ed24e9299604bf281dec563",
       "version_major": 2,
       "version_minor": 0
      },
      "text/plain": [
       "  0%|          | 0/10000 [00:00<?, ?it/s]"
      ]
     },
     "metadata": {},
     "output_type": "display_data"
    },
    {
     "name": "stdout",
     "output_type": "stream",
     "text": [
      "part errors = 0.1483\n"
     ]
    }
   ],
   "source": [
    "alpha = 0.05\n",
    "users = df['user_id'].unique()\n",
    "\n",
    "result_ab = []\n",
    "for _ in tqdm(range(10000)):\n",
    "    np.random.shuffle(users)\n",
    "    sample_size = 1000\n",
    "    a, b = users[:sample_size], users[sample_size:sample_size*2]\n",
    "    group_a = df[df['user_id'].isin(a)]['price']\n",
    "    group_b = df[df['user_id'].isin(b)]['price']\n",
    "    group_b = pd.concat([(group_b[:sample_size//40]+mu*0.1*40),group_b[sample_size//40:]])\n",
    "    \n",
    "    result_ab.append(check_ttest(group_a, group_b, alpha))\n",
    "second_errors = (1 - np.mean(result_ab))\n",
    "print(f'part errors = {second_errors:0.4f}')"
   ]
  }
 ],
 "metadata": {
  "kernelspec": {
   "display_name": "base",
   "language": "python",
   "name": "python3"
  },
  "language_info": {
   "codemirror_mode": {
    "name": "ipython",
    "version": 3
   },
   "file_extension": ".py",
   "mimetype": "text/x-python",
   "name": "python",
   "nbconvert_exporter": "python",
   "pygments_lexer": "ipython3",
   "version": "3.9.12"
  }
 },
 "nbformat": 4,
 "nbformat_minor": 2
}
