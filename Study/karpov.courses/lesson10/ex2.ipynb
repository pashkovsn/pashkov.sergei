{
 "cells": [
  {
   "cell_type": "code",
   "execution_count": 1,
   "metadata": {},
   "outputs": [],
   "source": [
    "def method_holm(pvalues, alpha=0.05):\n",
    "    \"\"\"Применяет метод Холма для проверки значимости изменений.\n",
    "    \n",
    "    pvalues - List[float] - список pvalue.\n",
    "    alpha - float, уровень значимости.\n",
    "    return - np.array, массив из нулей и единиц, 0 - эффекта нет, 1 - эффект есть.\n",
    "    \"\"\"\n",
    "    m = len(pvalues)\n",
    "    array_alpha = np.arange(m, 0, -1)\n",
    "    array_alpha = alpha / array_alpha\n",
    "    sorted_pvalue_indexes = np.argsort(pvalues)\n",
    "    res = np.zeros(m)\n",
    "    for idx, pvalue_index in enumerate(sorted_pvalue_indexes):\n",
    "        pvalue = pvalues[pvalue_index]\n",
    "        alpha_ = array_alpha[idx]\n",
    "        if pvalue < alpha_:\n",
    "            res[pvalue_index] = 1\n",
    "        else:\n",
    "            break\n",
    "    res = res.astype(int)\n",
    "    return res"
   ]
  },
  {
   "cell_type": "code",
   "execution_count": 2,
   "metadata": {},
   "outputs": [
    {
     "ename": "NameError",
     "evalue": "name 'total_size' is not defined",
     "output_type": "error",
     "traceback": [
      "\u001b[1;31m---------------------------------------------------------------------------\u001b[0m",
      "\u001b[1;31mNameError\u001b[0m                                 Traceback (most recent call last)",
      "Input \u001b[1;32mIn [2]\u001b[0m, in \u001b[0;36m<cell line: 3>\u001b[1;34m()\u001b[0m\n\u001b[0;32m      4\u001b[0m errors_aa \u001b[38;5;241m=\u001b[39m []\n\u001b[0;32m      5\u001b[0m errors_ab \u001b[38;5;241m=\u001b[39m []\n\u001b[1;32m----> 6\u001b[0m sample_size \u001b[38;5;241m=\u001b[39m \u001b[38;5;28mint\u001b[39m(\u001b[43mtotal_size\u001b[49m \u001b[38;5;241m/\u001b[39m (\u001b[38;5;28mint\u001b[39m(count_exp) \u001b[38;5;241m*\u001b[39m \u001b[38;5;241m2\u001b[39m))\n\u001b[0;32m      7\u001b[0m \u001b[38;5;28;01mfor\u001b[39;00m _ \u001b[38;5;129;01min\u001b[39;00m tqdm(\u001b[38;5;28mrange\u001b[39m(\u001b[38;5;241m10000\u001b[39m)):\n\u001b[0;32m      8\u001b[0m     list_ab_values \u001b[38;5;241m=\u001b[39m [\n\u001b[0;32m      9\u001b[0m         np\u001b[38;5;241m.\u001b[39mrandom\u001b[38;5;241m.\u001b[39mnormal(mean_, std_, (\u001b[38;5;241m2\u001b[39m, sample_size))\n\u001b[0;32m     10\u001b[0m         \u001b[38;5;28;01mfor\u001b[39;00m _ \u001b[38;5;129;01min\u001b[39;00m \u001b[38;5;28mrange\u001b[39m(count_exp)\n\u001b[0;32m     11\u001b[0m     ]\n",
      "\u001b[1;31mNameError\u001b[0m: name 'total_size' is not defined"
     ]
    }
   ],
   "source": [
    "# Проверим, что при 12 эксперимента ошибки контролируются на заданных уровнях, а при 13 экспериментах нет.\n",
    "\n",
    "for count_exp in [12, 13]:\n",
    "    errors_aa = []\n",
    "    errors_ab = []\n",
    "    sample_size = int(total_size / (int(count_exp) * 2))\n",
    "    for _ in tqdm(range(10000)):\n",
    "        list_ab_values = [\n",
    "            np.random.normal(mean_, std_, (2, sample_size))\n",
    "            for _ in range(count_exp)\n",
    "        ]\n",
    "        # синтетический А/А тест\n",
    "        pvalues = [stats.ttest_ind(a, b).pvalue for a, b in list_ab_values]\n",
    "        aa_with_effect = method_holm(pvalues, alpha)\n",
    "        errors_aa.append(np.sum(aa_with_effect) > 0)\n",
    "\n",
    "        # Синтетический А/Б тест.\n",
    "        # Достаточно проверить случай, когда эффект есть лишь в одном из экспериментов,\n",
    "        # так как при наличии эффектов в большем кол-ве экспериментов ошибок II рода станет меньше.\n",
    "        # Добавим эффект в первый эксперимент (не важно в какой добавлять, так как данные случайные)\n",
    "        list_ab_values[0][1] *= 1 + effect\n",
    "        pvalues = [stats.ttest_ind(a, b).pvalue for a, b in list_ab_values]\n",
    "        ab_with_effect = method_holm(pvalues, alpha)\n",
    "        if np.sum(ab_with_effect) == 0:\n",
    "            # если эффектов не найдено, то это ошибка\n",
    "            errors_ab.append(True)\n",
    "        else:\n",
    "            # если эффектов найден где его нет, то это ошибка\n",
    "            errors_ab.append(np.min(pvalues) != pvalues[0])\n",
    "\n",
    "    estimated_first_type_error = np.mean(errors_aa)\n",
    "    estimated_second_type_error = np.mean(errors_ab)\n",
    "    ci_first = estimate_ci_bernoulli(estimated_first_type_error, len(errors_aa))\n",
    "    ci_second = estimate_ci_bernoulli(estimated_second_type_error, len(errors_ab))\n",
    "    print(f'count_exp = {count_exp}')\n",
    "    print(f'sample_size = {sample_size}')\n",
    "    print(f'оценка вероятности ошибки I рода = {estimated_first_type_error:0.4f}')\n",
    "    print(f'  доверительный интервал = [{ci_first[0]:0.4f}, {ci_first[1]:0.4f}]')\n",
    "    print(f'оценка вероятности ошибки II рода = {estimated_second_type_error:0.4f}')\n",
    "    print(f'  доверительный интервал = [{ci_second[0]:0.4f}, {ci_second[1]:0.4f}]')"
   ]
  }
 ],
 "metadata": {
  "kernelspec": {
   "display_name": "base",
   "language": "python",
   "name": "python3"
  },
  "language_info": {
   "codemirror_mode": {
    "name": "ipython",
    "version": 3
   },
   "file_extension": ".py",
   "mimetype": "text/x-python",
   "name": "python",
   "nbconvert_exporter": "python",
   "pygments_lexer": "ipython3",
   "version": "3.9.12"
  }
 },
 "nbformat": 4,
 "nbformat_minor": 2
}
