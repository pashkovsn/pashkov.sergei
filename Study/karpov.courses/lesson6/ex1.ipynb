{
 "cells": [
  {
   "cell_type": "code",
   "execution_count": 24,
   "metadata": {},
   "outputs": [],
   "source": [
    "import pandas as pd\n",
    "from scipy.stats import ttest_ind\n",
    "from datetime import datetime\n",
    "import numpy as np\n",
    "from tqdm.notebook import tqdm\n",
    "\n",
    "import warnings\n",
    "warnings.filterwarnings('ignore')"
   ]
  },
  {
   "cell_type": "code",
   "execution_count": 8,
   "metadata": {},
   "outputs": [
    {
     "data": {
      "text/html": [
       "<div>\n",
       "<style scoped>\n",
       "    .dataframe tbody tr th:only-of-type {\n",
       "        vertical-align: middle;\n",
       "    }\n",
       "\n",
       "    .dataframe tbody tr th {\n",
       "        vertical-align: top;\n",
       "    }\n",
       "\n",
       "    .dataframe thead th {\n",
       "        text-align: right;\n",
       "    }\n",
       "</style>\n",
       "<table border=\"1\" class=\"dataframe\">\n",
       "  <thead>\n",
       "    <tr style=\"text-align: right;\">\n",
       "      <th></th>\n",
       "      <th>user_id</th>\n",
       "      <th>page</th>\n",
       "      <th>date</th>\n",
       "      <th>load_time</th>\n",
       "    </tr>\n",
       "  </thead>\n",
       "  <tbody>\n",
       "    <tr>\n",
       "      <th>0</th>\n",
       "      <td>f25239</td>\n",
       "      <td>m</td>\n",
       "      <td>2022-02-03 23:45:37</td>\n",
       "      <td>80.8</td>\n",
       "    </tr>\n",
       "    <tr>\n",
       "      <th>1</th>\n",
       "      <td>06d6df</td>\n",
       "      <td>m</td>\n",
       "      <td>2022-02-03 23:49:56</td>\n",
       "      <td>70.5</td>\n",
       "    </tr>\n",
       "    <tr>\n",
       "      <th>2</th>\n",
       "      <td>06d6df</td>\n",
       "      <td>m</td>\n",
       "      <td>2022-02-03 23:51:16</td>\n",
       "      <td>89.7</td>\n",
       "    </tr>\n",
       "  </tbody>\n",
       "</table>\n",
       "</div>"
      ],
      "text/plain": [
       "  user_id page                date  load_time\n",
       "0  f25239    m 2022-02-03 23:45:37       80.8\n",
       "1  06d6df    m 2022-02-03 23:49:56       70.5\n",
       "2  06d6df    m 2022-02-03 23:51:16       89.7"
      ]
     },
     "execution_count": 8,
     "metadata": {},
     "output_type": "execute_result"
    }
   ],
   "source": [
    "web_logs = pd.read_csv('2022-04-01T12_df_web_logs.csv')\n",
    "web_logs['date'] = pd.to_datetime(web_logs['date'])\n",
    "web_logs.head(3)"
   ]
  },
  {
   "cell_type": "code",
   "execution_count": 9,
   "metadata": {},
   "outputs": [
    {
     "data": {
      "text/html": [
       "<div>\n",
       "<style scoped>\n",
       "    .dataframe tbody tr th:only-of-type {\n",
       "        vertical-align: middle;\n",
       "    }\n",
       "\n",
       "    .dataframe tbody tr th {\n",
       "        vertical-align: top;\n",
       "    }\n",
       "\n",
       "    .dataframe thead th {\n",
       "        text-align: right;\n",
       "    }\n",
       "</style>\n",
       "<table border=\"1\" class=\"dataframe\">\n",
       "  <thead>\n",
       "    <tr style=\"text-align: right;\">\n",
       "      <th></th>\n",
       "      <th>user_id</th>\n",
       "      <th>page</th>\n",
       "      <th>date</th>\n",
       "      <th>load_time</th>\n",
       "    </tr>\n",
       "  </thead>\n",
       "  <tbody>\n",
       "    <tr>\n",
       "      <th>885082</th>\n",
       "      <td>434cf2</td>\n",
       "      <td>m</td>\n",
       "      <td>2022-03-01 00:00:02</td>\n",
       "      <td>69.8</td>\n",
       "    </tr>\n",
       "    <tr>\n",
       "      <th>885083</th>\n",
       "      <td>80fa93</td>\n",
       "      <td>m</td>\n",
       "      <td>2022-03-01 00:00:06</td>\n",
       "      <td>86.3</td>\n",
       "    </tr>\n",
       "    <tr>\n",
       "      <th>885084</th>\n",
       "      <td>434cf2</td>\n",
       "      <td>b</td>\n",
       "      <td>2022-03-01 00:02:20</td>\n",
       "      <td>58.0</td>\n",
       "    </tr>\n",
       "  </tbody>\n",
       "</table>\n",
       "</div>"
      ],
      "text/plain": [
       "       user_id page                date  load_time\n",
       "885082  434cf2    m 2022-03-01 00:00:02       69.8\n",
       "885083  80fa93    m 2022-03-01 00:00:06       86.3\n",
       "885084  434cf2    b 2022-03-01 00:02:20       58.0"
      ]
     },
     "execution_count": 9,
     "metadata": {},
     "output_type": "execute_result"
    }
   ],
   "source": [
    "dt_beg = datetime(2022,3,1)\n",
    "dt_end = datetime(2022,3,8)\n",
    "web_logs_hist = web_logs[(web_logs['date']>=dt_beg)&(web_logs['date']<=dt_end)]\n",
    "web_logs_hist.head(3)"
   ]
  },
  {
   "cell_type": "code",
   "execution_count": 13,
   "metadata": {},
   "outputs": [],
   "source": [
    "alpha = 0.05\n",
    "sample_size = 1000\n",
    "\n",
    "mean = web_logs_hist['load_time'].mean()\n",
    "std = web_logs_hist['load_time'].std()\n",
    "\n",
    "eff = mean * 0.01"
   ]
  },
  {
   "cell_type": "code",
   "execution_count": 19,
   "metadata": {},
   "outputs": [
    {
     "name": "stdout",
     "output_type": "stream",
     "text": [
      "35086\n",
      "Ttest_indResult(statistic=-0.5487023854285676, pvalue=0.5832185741428875)\n"
     ]
    }
   ],
   "source": [
    "users = web_logs_hist['user_id'].unique()\n",
    "np.random.shuffle(users)\n",
    "print(len(users))\n",
    "a = users[:sample_size]\n",
    "b = users[sample_size:sample_size*2]\n",
    "group_a = web_logs_hist[web_logs_hist['user_id'].isin(a)]['load_time']\n",
    "group_b = web_logs_hist[web_logs_hist['user_id'].isin(b)]['load_time']*1.01\n",
    "print(ttest_ind(group_a, group_b))"
   ]
  },
  {
   "cell_type": "code",
   "execution_count": 20,
   "metadata": {},
   "outputs": [
    {
     "data": {
      "text/plain": [
       "array([[<AxesSubplot:title={'center':'load_time'}>]], dtype=object)"
      ]
     },
     "execution_count": 20,
     "metadata": {},
     "output_type": "execute_result"
    },
    {
     "data": {
      "image/png": "[encoded data removed]",
      "text/plain": [
       "<Figure size 432x288 with 1 Axes>"
      ]
     },
     "metadata": {
      "needs_background": "light"
     },
     "output_type": "display_data"
    }
   ],
   "source": [
    "web_logs.hist('load_time')"
   ]
  },
  {
   "cell_type": "code",
   "execution_count": 26,
   "metadata": {},
   "outputs": [],
   "source": [
    "def check_ttest(a, b, alpha):\n",
    "    \"\"\"Тест Стьюдента. Возвращает 1, если отличия значимы.\"\"\"\n",
    "    _, pvalue = ttest_ind(a, b)\n",
    "    return int(pvalue < alpha)"
   ]
  },
  {
   "cell_type": "code",
   "execution_count": 31,
   "metadata": {},
   "outputs": [
    {
     "data": {
      "application/vnd.jupyter.widget-view+json": {
       "model_id": "c56c455de15a415daaade5f602819a63",
       "version_major": 2,
       "version_minor": 0
      },
      "text/plain": [
       "  0%|          | 0/1000 [00:00<?, ?it/s]"
      ]
     },
     "metadata": {},
     "output_type": "display_data"
    },
    {
     "name": "stdout",
     "output_type": "stream",
     "text": [
      "Для 1-го случая мощность теста равна =  0.074\n"
     ]
    }
   ],
   "source": [
    "web_logs_hist_1 = web_logs_hist[(web_logs_hist['load_time']>=np.quantile(web_logs_hist['load_time'],0.0002))&(web_logs_hist['load_time']<=np.quantile(web_logs_hist['load_time'],0.9998))]\n",
    "\n",
    "alpha = 0.05\n",
    "users = web_logs_hist_1['user_id'].unique()\n",
    "\n",
    "result_ab = []\n",
    "for _ in tqdm(range(1000)):\n",
    "    np.random.shuffle(users)\n",
    "    a, b = users[:sample_size], users[sample_size+1:sample_size*2]\n",
    "    group_a = web_logs_hist_1[web_logs_hist['user_id'].isin(a)]['load_time']\n",
    "    group_b = web_logs_hist_1[web_logs_hist['user_id'].isin(b)]['load_time']*1.01\n",
    "    result_ab.append(check_ttest(group_a, group_b, alpha))\n",
    "power_test = np.mean(result_ab)\n",
    "print('Для 1-го случая мощность теста равна = ',power_test)"
   ]
  },
  {
   "cell_type": "code",
   "execution_count": 32,
   "metadata": {},
   "outputs": [
    {
     "data": {
      "application/vnd.jupyter.widget-view+json": {
       "model_id": "f28dc1e8e09b434c9a021841e1c7fa14",
       "version_major": 2,
       "version_minor": 0
      },
      "text/plain": [
       "  0%|          | 0/1000 [00:00<?, ?it/s]"
      ]
     },
     "metadata": {},
     "output_type": "display_data"
    },
    {
     "name": "stdout",
     "output_type": "stream",
     "text": [
      "Для 2-го случая мощность теста равна =  0.888\n"
     ]
    }
   ],
   "source": [
    "web_logs_hist_1 = web_logs_hist[(web_logs_hist['load_time']>=np.quantile(web_logs_hist['load_time'],0.002))&(web_logs_hist['load_time']<=np.quantile(web_logs_hist['load_time'],0.998))]\n",
    "\n",
    "alpha = 0.05\n",
    "users = web_logs_hist_1['user_id'].unique()\n",
    "\n",
    "result_ab = []\n",
    "for _ in tqdm(range(1000)):\n",
    "    np.random.shuffle(users)\n",
    "    a, b = users[:sample_size], users[sample_size+1:sample_size*2]\n",
    "    group_a = web_logs_hist_1[web_logs_hist['user_id'].isin(a)]['load_time']\n",
    "    group_b = web_logs_hist_1[web_logs_hist['user_id'].isin(b)]['load_time']*1.01\n",
    "    result_ab.append(check_ttest(group_a, group_b, alpha))\n",
    "power_test = np.mean(result_ab)\n",
    "print('Для 2-го случая мощность теста равна = ',power_test)"
   ]
  },
  {
   "cell_type": "code",
   "execution_count": 33,
   "metadata": {},
   "outputs": [
    {
     "data": {
      "application/vnd.jupyter.widget-view+json": {
       "model_id": "e5980ff7846f4e37ae121afb83d337dc",
       "version_major": 2,
       "version_minor": 0
      },
      "text/plain": [
       "  0%|          | 0/1000 [00:00<?, ?it/s]"
      ]
     },
     "metadata": {},
     "output_type": "display_data"
    },
    {
     "name": "stdout",
     "output_type": "stream",
     "text": [
      "Для 3-го случая мощность теста равна =  0.965\n"
     ]
    }
   ],
   "source": [
    "web_logs_hist_1 = web_logs_hist[(web_logs_hist['load_time']>=np.quantile(web_logs_hist['load_time'],0.02))&(web_logs_hist['load_time']<=np.quantile(web_logs_hist['load_time'],0.98))]\n",
    "\n",
    "alpha = 0.05\n",
    "users = web_logs_hist_1['user_id'].unique()\n",
    "\n",
    "result_ab = []\n",
    "for _ in tqdm(range(1000)):\n",
    "    np.random.shuffle(users)\n",
    "    a, b = users[:sample_size], users[sample_size+1:sample_size*2]\n",
    "    group_a = web_logs_hist_1[web_logs_hist['user_id'].isin(a)]['load_time']\n",
    "    group_b = web_logs_hist_1[web_logs_hist['user_id'].isin(b)]['load_time']*1.01\n",
    "    result_ab.append(check_ttest(group_a, group_b, alpha))\n",
    "power_test = np.mean(result_ab)\n",
    "print('Для 3-го случая мощность теста равна = ',power_test)"
   ]
  },
  {
   "cell_type": "code",
   "execution_count": 34,
   "metadata": {},
   "outputs": [
    {
     "data": {
      "application/vnd.jupyter.widget-view+json": {
       "model_id": "0f4970b7a39e4731bc2f93f89e884743",
       "version_major": 2,
       "version_minor": 0
      },
      "text/plain": [
       "  0%|          | 0/1000 [00:00<?, ?it/s]"
      ]
     },
     "metadata": {},
     "output_type": "display_data"
    },
    {
     "name": "stdout",
     "output_type": "stream",
     "text": [
      "Для 4-го случая мощность теста равна =  0.999\n"
     ]
    }
   ],
   "source": [
    "web_logs_hist_1 = web_logs_hist[(web_logs_hist['load_time']>=np.quantile(web_logs_hist['load_time'],0.1))&(web_logs_hist['load_time']<=np.quantile(web_logs_hist['load_time'],0.9))]\n",
    "\n",
    "alpha = 0.05\n",
    "users = web_logs_hist_1['user_id'].unique()\n",
    "\n",
    "result_ab = []\n",
    "for _ in tqdm(range(1000)):\n",
    "    np.random.shuffle(users)\n",
    "    a, b = users[:sample_size], users[sample_size+1:sample_size*2]\n",
    "    group_a = web_logs_hist_1[web_logs_hist['user_id'].isin(a)]['load_time']\n",
    "    group_b = web_logs_hist_1[web_logs_hist['user_id'].isin(b)]['load_time']*1.01\n",
    "    result_ab.append(check_ttest(group_a, group_b, alpha))\n",
    "power_test = np.mean(result_ab)\n",
    "print('Для 4-го случая мощность теста равна = ',power_test)"
   ]
  },
  {
   "cell_type": "code",
   "execution_count": 35,
   "metadata": {},
   "outputs": [
    {
     "data": {
      "application/vnd.jupyter.widget-view+json": {
       "model_id": "295cb2daa8f14d9fa6fd10b699c7381d",
       "version_major": 2,
       "version_minor": 0
      },
      "text/plain": [
       "  0%|          | 0/1000 [00:00<?, ?it/s]"
      ]
     },
     "metadata": {},
     "output_type": "display_data"
    },
    {
     "name": "stdout",
     "output_type": "stream",
     "text": [
      "Для 5-го случая мощность теста равна =  1.0\n"
     ]
    }
   ],
   "source": [
    "web_logs_hist_1 = web_logs_hist[(web_logs_hist['load_time']>=np.quantile(web_logs_hist['load_time'],0.2))&(web_logs_hist['load_time']<=np.quantile(web_logs_hist['load_time'],0.8))]\n",
    "\n",
    "alpha = 0.05\n",
    "users = web_logs_hist_1['user_id'].unique()\n",
    "\n",
    "result_ab = []\n",
    "for _ in tqdm(range(1000)):\n",
    "    np.random.shuffle(users)\n",
    "    a, b = users[:sample_size], users[sample_size+1:sample_size*2]\n",
    "    group_a = web_logs_hist_1[web_logs_hist['user_id'].isin(a)]['load_time']\n",
    "    group_b = web_logs_hist_1[web_logs_hist['user_id'].isin(b)]['load_time']*1.01\n",
    "    result_ab.append(check_ttest(group_a, group_b, alpha))\n",
    "power_test = np.mean(result_ab)\n",
    "print('Для 5-го случая мощность теста равна = ',power_test)"
   ]
  }
 ],
 "metadata": {
  "kernelspec": {
   "display_name": "base",
   "language": "python",
   "name": "python3"
  },
  "language_info": {
   "codemirror_mode": {
    "name": "ipython",
    "version": 3
   },
   "file_extension": ".py",
   "mimetype": "text/x-python",
   "name": "python",
   "nbconvert_exporter": "python",
   "pygments_lexer": "ipython3",
   "version": "3.9.12"
  }
 },
 "nbformat": 4,
 "nbformat_minor": 2
}
