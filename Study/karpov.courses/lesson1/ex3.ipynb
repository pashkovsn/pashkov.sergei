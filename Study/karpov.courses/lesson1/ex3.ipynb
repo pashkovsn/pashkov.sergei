{
 "cells": [
  {
   "cell_type": "code",
   "execution_count": 29,
   "metadata": {},
   "outputs": [],
   "source": [
    "import numpy as np\n",
    "import os\n",
    "import pandas as pd \n",
    "\n",
    "import warnings\n",
    "warnings.filterwarnings('ignore')"
   ]
  },
  {
   "cell_type": "code",
   "execution_count": 30,
   "metadata": {},
   "outputs": [],
   "source": [
    "URL_BASE = 'https://raw.githubusercontent.com/pashkovsn/pashkov.sergei/refs/heads/main/Study/karpov.courses/lesson1/'\n",
    "\n",
    "\n",
    "def read_database(file_name):\n",
    "    return pd.read_csv(os.path.join(URL_BASE, file_name))"
   ]
  },
  {
   "cell_type": "code",
   "execution_count": 31,
   "metadata": {},
   "outputs": [
    {
     "name": "stdout",
     "output_type": "stream",
     "text": [
      "   sale_id                 date  count_pizza  count_drink  price user_id\n",
      "0  1000001  2022-02-04 10:00:24            1            0    720  1c1543\n",
      "1  1000002  2022-02-04 10:02:28            1            1    930  a9a6e8\n",
      "2  1000003  2022-02-04 10:02:35            3            1   1980  23420a\n",
      "3  1000004  2022-02-04 10:03:06            1            1    750  3e8ed5\n",
      "4  1000005  2022-02-04 10:03:23            1            1    870  cbc468\n"
     ]
    }
   ],
   "source": [
    "try:\n",
    "    df_sales = read_database('2022-04-01T12_df_sales.csv')\n",
    "    print(df_sales.head())\n",
    "except FileNotFoundError as e:\n",
    "    print(f\"File not found: {e}\")\n",
    "\n",
    "df_sales['date'] = pd.to_datetime(df_sales['date'])"
   ]
  },
  {
   "cell_type": "code",
   "execution_count": 32,
   "metadata": {},
   "outputs": [
    {
     "name": "stdout",
     "output_type": "stream",
     "text": [
      "   sale_id                date  count_pizza  count_drink  price user_id  \\\n",
      "0  1000001 2022-02-04 10:00:24            1            0    720  1c1543   \n",
      "1  1000002 2022-02-04 10:02:28            1            1    930  a9a6e8   \n",
      "2  1000003 2022-02-04 10:02:35            3            1   1980  23420a   \n",
      "\n",
      "          day  \n",
      "0  2022-02-04  \n",
      "1  2022-02-04  \n",
      "2  2022-02-04  \n"
     ]
    }
   ],
   "source": [
    "df_sales['date'] = pd.to_datetime(df_sales['date'])\n",
    "df_sales['day'] = df_sales['date'].dt.date\n",
    "print(df_sales.head(3))"
   ]
  },
  {
   "cell_type": "code",
   "execution_count": 33,
   "metadata": {},
   "outputs": [],
   "source": [
    "df_sales_feb = df_sales[\n",
    "    (df_sales['date'] >= pd.to_datetime('2022-02-01')) & \n",
    "    (df_sales['date'] <= pd.to_datetime('2022-03-01'))\n",
    "]\n",
    "\n",
    "df_sales_march = df_sales[\n",
    "    (df_sales['date'] >= pd.to_datetime('2022-03-01')) & \n",
    "    (df_sales['date'] <= pd.to_datetime('2022-04-01'))\n",
    "]"
   ]
  },
  {
   "cell_type": "code",
   "execution_count": 34,
   "metadata": {},
   "outputs": [],
   "source": [
    "df_sales_feb = (\n",
    "    df_sales_feb[['day', 'user_id']]\n",
    "    .groupby(['user_id'])\n",
    "    .agg(day=('day', min))\n",
    "    .reset_index()\n",
    ")\n",
    "\n",
    "df_sales_march = (\n",
    "    df_sales_march[['day', 'user_id']]\n",
    "    .groupby(['user_id'])\n",
    "    .agg(day=('day', min))\n",
    "    .reset_index()\n",
    ")"
   ]
  },
  {
   "cell_type": "code",
   "execution_count": 35,
   "metadata": {},
   "outputs": [],
   "source": [
    "merged_df = pd.merge(\n",
    "    df_sales_feb,\n",
    "    df_sales_march,\n",
    "    on='user_id',\n",
    "    how='left'\n",
    ")"
   ]
  },
  {
   "cell_type": "code",
   "execution_count": 36,
   "metadata": {},
   "outputs": [
    {
     "name": "stdout",
     "output_type": "stream",
     "text": [
      "Доля заполненных значений: 0.66%\n"
     ]
    }
   ],
   "source": [
    "total_values = len(merged_df['day_y'])\n",
    "filled_values = merged_df['day_y'].notna().sum()\n",
    "filled_ratio = filled_values / total_values / 100\n",
    "print(f\"Доля заполненных значений: {filled_ratio:.2%}\")"
   ]
  }
 ],
 "metadata": {
  "kernelspec": {
   "display_name": "base",
   "language": "python",
   "name": "python3"
  },
  "language_info": {
   "codemirror_mode": {
    "name": "ipython",
    "version": 3
   },
   "file_extension": ".py",
   "mimetype": "text/x-python",
   "name": "python",
   "nbconvert_exporter": "python",
   "pygments_lexer": "ipython3",
   "version": "3.12.7"
  }
 },
 "nbformat": 4,
 "nbformat_minor": 2
}
