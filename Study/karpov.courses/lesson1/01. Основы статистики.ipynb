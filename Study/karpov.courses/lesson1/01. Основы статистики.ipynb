{
 "cells": [
  {
   "cell_type": "code",
   "execution_count": 1,
   "metadata": {
    "executionInfo": {
     "elapsed": 1442,
     "status": "ok",
     "timestamp": 1674542172189,
     "user": {
      "displayName": "Nikolay Nazarov",
      "userId": "18018785782997408667"
     },
     "user_tz": -420
    },
    "id": "6aUgKzJ4E-7P"
   },
   "outputs": [],
   "source": [
    "import numpy as np\n",
    "from scipy import stats\n",
    "import matplotlib.pyplot as plt"
   ]
  },
  {
   "cell_type": "code",
   "execution_count": 2,
   "metadata": {
    "executionInfo": {
     "elapsed": 50,
     "status": "ok",
     "timestamp": 1674542172191,
     "user": {
      "displayName": "Nikolay Nazarov",
      "userId": "18018785782997408667"
     },
     "user_tz": -420
    },
    "id": "jGdw8L79dEZi"
   },
   "outputs": [],
   "source": [
    "titlesize = 16\n",
    "labelsize = 16\n",
    "legendsize = 16\n",
    "xticksize = 16\n",
    "yticksize = xticksize\n",
    "\n",
    "plt.rcParams['legend.markerscale'] = 1.5     # the relative size of legend markers vs. original\n",
    "plt.rcParams['legend.handletextpad'] = 0.5\n",
    "plt.rcParams['legend.labelspacing'] = 0.4    # the vertical space between the legend entries in fraction of fontsize\n",
    "plt.rcParams['legend.borderpad'] = 0.5       # border whitespace in fontsize units\n",
    "plt.rcParams['font.size'] = 12\n",
    "plt.rcParams['font.serif'] = 'Times New Roman'\n",
    "plt.rcParams['axes.labelsize'] = labelsize\n",
    "plt.rcParams['axes.titlesize'] = titlesize\n",
    "plt.rcParams['figure.figsize'] = (10, 6)\n",
    "\n",
    "plt.rc('xtick', labelsize=xticksize)\n",
    "plt.rc('ytick', labelsize=yticksize)\n",
    "plt.rc('legend', fontsize=legendsize)"
   ]
  },
  {
   "cell_type": "markdown",
   "metadata": {
    "id": "hmnZSNbHE-7V"
   },
   "source": [
    "# 1. Генерация данных\n",
    "\n",
    "## 1.1. numpy.random"
   ]
  },
  {
   "cell_type": "code",
   "execution_count": 3,
   "metadata": {
    "colab": {
     "base_uri": "https://localhost:8080/"
    },
    "executionInfo": {
     "elapsed": 49,
     "status": "ok",
     "timestamp": 1674542172192,
     "user": {
      "displayName": "Nikolay Nazarov",
      "userId": "18018785782997408667"
     },
     "user_tz": -420
    },
    "id": "v9yhbj-ME-7X",
    "outputId": "41dd7e14-8c39-41e9-8117-3ae14986b73f"
   },
   "outputs": [
    {
     "data": {
      "text/plain": [
       "array([0.17868472, 0.06948595, 0.05185506, 0.41167034, 0.38337382])"
      ]
     },
     "execution_count": 3,
     "metadata": {},
     "output_type": "execute_result"
    }
   ],
   "source": [
    "# равномерное распределение от 0 до 1\n",
    "size = 5\n",
    "np.random.rand(size)"
   ]
  },
  {
   "cell_type": "code",
   "execution_count": 4,
   "metadata": {
    "colab": {
     "base_uri": "https://localhost:8080/"
    },
    "executionInfo": {
     "elapsed": 46,
     "status": "ok",
     "timestamp": 1674542172193,
     "user": {
      "displayName": "Nikolay Nazarov",
      "userId": "18018785782997408667"
     },
     "user_tz": -420
    },
    "id": "kz-v0jtdE-7Y",
    "outputId": "c729519b-a3b5-4ddd-cecb-a370d24923b1"
   },
   "outputs": [
    {
     "data": {
      "text/plain": [
       "array([3, 3, 2, 3, 3])"
      ]
     },
     "execution_count": 4,
     "metadata": {},
     "output_type": "execute_result"
    }
   ],
   "source": [
    "# равномерное целочисленное распределение\n",
    "np.random.randint(1, 4, size)"
   ]
  },
  {
   "cell_type": "code",
   "execution_count": 5,
   "metadata": {
    "colab": {
     "base_uri": "https://localhost:8080/"
    },
    "executionInfo": {
     "elapsed": 38,
     "status": "ok",
     "timestamp": 1674542172194,
     "user": {
      "displayName": "Nikolay Nazarov",
      "userId": "18018785782997408667"
     },
     "user_tz": -420
    },
    "id": "j77gqqlNE-7Z",
    "outputId": "263079b0-771f-456a-aff4-d3a6a329a05b"
   },
   "outputs": [
    {
     "data": {
      "text/plain": [
       "array([19.2377138 , 19.36799715,  9.06543149, 13.29266791,  6.02551262])"
      ]
     },
     "execution_count": 5,
     "metadata": {},
     "output_type": "execute_result"
    }
   ],
   "source": [
    "# нормальное распределение\n",
    "np.random.normal(10, 5, size)"
   ]
  },
  {
   "cell_type": "markdown",
   "metadata": {
    "id": "ATsl5xKTE-7a"
   },
   "source": [
    "## 1.2. scipy.stats"
   ]
  },
  {
   "cell_type": "code",
   "execution_count": 6,
   "metadata": {
    "colab": {
     "base_uri": "https://localhost:8080/"
    },
    "executionInfo": {
     "elapsed": 29,
     "status": "ok",
     "timestamp": 1674542172195,
     "user": {
      "displayName": "Nikolay Nazarov",
      "userId": "18018785782997408667"
     },
     "user_tz": -420
    },
    "id": "lqR5DgqaE-7b",
    "outputId": "c003340e-0840-45d7-ec72-567b0b4ab78f"
   },
   "outputs": [
    {
     "data": {
      "text/plain": [
       "array([ 8.63960525,  9.39318751, 10.06215583, 11.50754956, 11.26637743])"
      ]
     },
     "execution_count": 6,
     "metadata": {},
     "output_type": "execute_result"
    }
   ],
   "source": [
    "# нормальное распределение\n",
    "stats.norm.rvs(10, 1, size)"
   ]
  },
  {
   "cell_type": "markdown",
   "metadata": {
    "id": "qWPFY9vfE-7b"
   },
   "source": [
    "# 2. Информация о распределениях\n",
    "\n",
    "## 2.1. Плотность распределения"
   ]
  },
  {
   "cell_type": "markdown",
   "metadata": {
    "id": "kKLmkKB6YStz"
   },
   "source": [
    "Плотность распределения абсолютно непрерывной случайной величины обозначается как\n",
    "$$\n",
    "    f(x) = F'(x)\n",
    "$$\n",
    "\n",
    "Выразим вероятность попадания величины $X$ на отрезок от $a$ до $b$ через плотность распределения\n",
    "$$\n",
    "    P(a < X < b) = \\int_a^b f(x) dx\n",
    "$$"
   ]
  },
  {
   "cell_type": "code",
   "execution_count": 7,
   "metadata": {
    "colab": {
     "base_uri": "https://localhost:8080/"
    },
    "executionInfo": {
     "elapsed": 21,
     "status": "ok",
     "timestamp": 1674542172196,
     "user": {
      "displayName": "Nikolay Nazarov",
      "userId": "18018785782997408667"
     },
     "user_tz": -420
    },
    "id": "i894mmB4E-7c",
    "outputId": "db1cba4c-b0d3-43e6-89ce-4b98a3d5f998"
   },
   "outputs": [
    {
     "data": {
      "text/plain": [
       "0.1329807601338109"
      ]
     },
     "execution_count": 7,
     "metadata": {},
     "output_type": "execute_result"
    }
   ],
   "source": [
    "stats.norm.pdf(10, loc=10, scale=3)"
   ]
  },
  {
   "cell_type": "code",
   "execution_count": 14,
   "metadata": {
    "colab": {
     "base_uri": "https://localhost:8080/",
     "height": 397
    },
    "executionInfo": {
     "elapsed": 2798,
     "status": "ok",
     "timestamp": 1674542174982,
     "user": {
      "displayName": "Nikolay Nazarov",
      "userId": "18018785782997408667"
     },
     "user_tz": -420
    },
    "id": "ntE1dCuoE-7d",
    "outputId": "458e1be4-4bbd-498e-aa1f-b817136a9f4a"
   },
   "outputs": [
    {
     "data": {
      "image/png": "[encoded data removed]",
      "text/plain": [
       "<Figure size 1000x600 with 1 Axes>"
      ]
     },
     "metadata": {},
     "output_type": "display_data"
    }
   ],
   "source": [
    "X = np.linspace(0, 20, 1000)\n",
    "Y = [stats.norm.pdf(x, loc=10, scale=3) for x in X]\n",
    "plt.plot(X, Y)\n",
    "plt.title('Плотность нормального распределения')\n",
    "plt.grid()\n",
    "plt.show()"
   ]
  },
  {
   "cell_type": "markdown",
   "metadata": {
    "id": "8UM0tcIHE-7e"
   },
   "source": [
    "## 2.2. Функция распределения"
   ]
  },
  {
   "cell_type": "markdown",
   "metadata": {
    "id": "nbth5EDrYSt1"
   },
   "source": [
    "$$F_X(x) = P(X < x)$$\n",
    "\n",
    "Выразим вероятность попадания величины $X$ на отрезок от $a$ до $b$ через функцию распределения\n",
    "$$\n",
    "    P(a < X < b) = F(b) - F(a)\n",
    "$$"
   ]
  },
  {
   "cell_type": "code",
   "execution_count": 15,
   "metadata": {
    "colab": {
     "base_uri": "https://localhost:8080/"
    },
    "executionInfo": {
     "elapsed": 154,
     "status": "ok",
     "timestamp": 1674542174983,
     "user": {
      "displayName": "Nikolay Nazarov",
      "userId": "18018785782997408667"
     },
     "user_tz": -420
    },
    "id": "eNop0X_LE-7e",
    "outputId": "3e2460b9-d576-4b25-e887-3640eb66e394"
   },
   "outputs": [
    {
     "data": {
      "text/plain": [
       "0.950004209703559"
      ]
     },
     "execution_count": 15,
     "metadata": {},
     "output_type": "execute_result"
    }
   ],
   "source": [
    "stats.norm.cdf(1.96) - stats.norm.cdf(-1.96)"
   ]
  },
  {
   "cell_type": "code",
   "execution_count": 16,
   "metadata": {
    "colab": {
     "base_uri": "https://localhost:8080/",
     "height": 397
    },
    "executionInfo": {
     "elapsed": 136,
     "status": "ok",
     "timestamp": 1674542174985,
     "user": {
      "displayName": "Nikolay Nazarov",
      "userId": "18018785782997408667"
     },
     "user_tz": -420
    },
    "id": "N2yHxnEzE-7f",
    "outputId": "e0e88617-4ede-4db6-9329-0651fabed19a"
   },
   "outputs": [
    {
     "data": {
      "image/png": "[encoded data removed]",
      "text/plain": [
       "<Figure size 1000x600 with 1 Axes>"
      ]
     },
     "metadata": {},
     "output_type": "display_data"
    }
   ],
   "source": [
    "X = np.linspace(-3, 3, 1000)\n",
    "Y = [stats.norm.cdf(x) for x in X]\n",
    "plt.plot(X, Y)\n",
    "plt.title('Функция распределения нормального распределения')\n",
    "plt.grid()\n",
    "plt.show()"
   ]
  },
  {
   "cell_type": "markdown",
   "metadata": {
    "id": "1MjEDMqSE-7g"
   },
   "source": [
    "## 2.3. Обратная функция распределения\n",
    "Percent point function (inverse of `cdf`)"
   ]
  },
  {
   "cell_type": "code",
   "execution_count": 17,
   "metadata": {
    "colab": {
     "base_uri": "https://localhost:8080/"
    },
    "executionInfo": {
     "elapsed": 133,
     "status": "ok",
     "timestamp": 1674542174987,
     "user": {
      "displayName": "Nikolay Nazarov",
      "userId": "18018785782997408667"
     },
     "user_tz": -420
    },
    "id": "tSy-DgUdE-7h",
    "outputId": "ee2cdf06-cfec-476f-b473-236f6d744918"
   },
   "outputs": [
    {
     "data": {
      "text/plain": [
       "-0.8416212335729142"
      ]
     },
     "execution_count": 17,
     "metadata": {},
     "output_type": "execute_result"
    }
   ],
   "source": [
    "stats.norm.ppf(0.2)"
   ]
  },
  {
   "cell_type": "code",
   "execution_count": 18,
   "metadata": {
    "colab": {
     "base_uri": "https://localhost:8080/",
     "height": 397
    },
    "executionInfo": {
     "elapsed": 115,
     "status": "ok",
     "timestamp": 1674542174988,
     "user": {
      "displayName": "Nikolay Nazarov",
      "userId": "18018785782997408667"
     },
     "user_tz": -420
    },
    "id": "apsoYeLzE-7i",
    "outputId": "421e1a2d-0815-4fad-df9d-f9a2c00983b4"
   },
   "outputs": [
    {
     "data": {
      "image/png": "[encoded data removed]",
      "text/plain": [
       "<Figure size 1000x600 with 1 Axes>"
      ]
     },
     "metadata": {},
     "output_type": "display_data"
    }
   ],
   "source": [
    "X = np.linspace(-3, 3, 1000)\n",
    "Y = [stats.norm.cdf(x) for x in X]\n",
    "\n",
    "cdf_y = 0.2\n",
    "cdf_x = stats.norm.ppf(cdf_y)\n",
    "\n",
    "plt.plot(X, Y)\n",
    "plt.plot([cdf_x], [cdf_y], 'o', label=f'point [{cdf_x:0.2f}, {cdf_y:0.2f}]')\n",
    "plt.title('Функция распределения нормального распределения')\n",
    "plt.legend()\n",
    "plt.grid()\n",
    "plt.show()"
   ]
  },
  {
   "cell_type": "markdown",
   "metadata": {
    "id": "xhnzdQAHE-7j"
   },
   "source": [
    "## 2.4. Эмпирическая функция распределения\n",
    "\n",
    "$X_1,\\ldots,X_n\\sim F$ — выборка независимых одинаково распределённых случайных величин.\n",
    "\n",
    "Эмпирическая функция распределения $\\hat{F}_n$ имеет вид\n",
    "$$\\hat{F}_n = \\frac{\\sum\\limits_{i=1}^n I(X_i \\leq x)}{n}$$\n",
    "где\n",
    "\n",
    "$$\n",
    "I(X_i\\leq x)=\n",
    "\\left\\{\n",
    "    \\begin{aligned}\n",
    "        1, X_i \\leq x \\\\\n",
    "        0, X_i > x\n",
    "    \\end{aligned}\n",
    "\\right. \n",
    "$$"
   ]
  },
  {
   "cell_type": "markdown",
   "metadata": {
    "id": "KRzEGsPUE-7k"
   },
   "source": [
    "#### Свойства ЭФР\n",
    "\n",
    "\\begin{align*}\n",
    "    bias &= \\mathbb{E}(\\hat{F}_n (x)) - F(x) = 0, \\\\\n",
    "    \\mathbb{V}(\\hat{F}_n (x)) &= \\frac{F(x) \\left(1-F(x)\\right)}{n}, \\\\\n",
    "    MSE &= \\frac{F(x) \\left(1-F(x)\\right)}{n} + bias^2 \\overset{n\\to \\infty}{\\to} 0, \\\\\n",
    "    \\hat{F}_n (x) &\\overset{P}{\\to} F(x)\n",
    "\\end{align*}\n"
   ]
  },
  {
   "cell_type": "code",
   "execution_count": 19,
   "metadata": {
    "colab": {
     "base_uri": "https://localhost:8080/",
     "height": 54
    },
    "executionInfo": {
     "elapsed": 113,
     "status": "ok",
     "timestamp": 1674542174989,
     "user": {
      "displayName": "Nikolay Nazarov",
      "userId": "18018785782997408667"
     },
     "user_tz": -420
    },
    "id": "I_9Nx73wE-7l",
    "outputId": "f8fa7a98-ef89-43f2-c9e8-7680a8f6bb23"
   },
   "outputs": [
    {
     "data": {
      "image/png": "[encoded data removed]",
      "text/plain": [
       "<Figure size 1000x600 with 1 Axes>"
      ]
     },
     "metadata": {},
     "output_type": "display_data"
    }
   ],
   "source": [
    "data = np.random.normal(size=50)\n",
    "ecdf_Y = [np.mean(data < x) for x in X]\n",
    "\n",
    "plt.plot(X, Y, label='ФР')\n",
    "plt.plot(X, ecdf_Y, label='ЭФР')\n",
    "plt.legend()\n",
    "plt.show()"
   ]
  },
  {
   "cell_type": "markdown",
   "metadata": {
    "id": "ZRudgO3IE-7m"
   },
   "source": [
    "# 3. Точечные оценки\n",
    "## Оценка среднего значения\n",
    "Выборочное среднее"
   ]
  },
  {
   "cell_type": "code",
   "execution_count": 20,
   "metadata": {
    "colab": {
     "base_uri": "https://localhost:8080/"
    },
    "executionInfo": {
     "elapsed": 110,
     "status": "ok",
     "timestamp": 1674542174990,
     "user": {
      "displayName": "Nikolay Nazarov",
      "userId": "18018785782997408667"
     },
     "user_tz": -420
    },
    "id": "UysWcVDdE-7m",
    "outputId": "26f920b4-fabe-487d-b25d-b06edd87e0cc"
   },
   "outputs": [
    {
     "name": "stdout",
     "output_type": "stream",
     "text": [
      "mean = 1\n",
      "estimated_mean = 0.996\n"
     ]
    }
   ],
   "source": [
    "mean = 1\n",
    "data = np.random.normal(mean, 1, 1000)\n",
    "estimated_mean = np.mean(data)\n",
    "print(f'mean = {mean}')\n",
    "print(f'estimated_mean = {estimated_mean:0.3f}')"
   ]
  },
  {
   "cell_type": "markdown",
   "metadata": {
    "id": "N7iUIAcQE-7n"
   },
   "source": [
    "## Оценка стандартного отклонения"
   ]
  },
  {
   "cell_type": "code",
   "execution_count": 21,
   "metadata": {
    "colab": {
     "base_uri": "https://localhost:8080/"
    },
    "executionInfo": {
     "elapsed": 92,
     "status": "ok",
     "timestamp": 1674542174991,
     "user": {
      "displayName": "Nikolay Nazarov",
      "userId": "18018785782997408667"
     },
     "user_tz": -420
    },
    "id": "CzDsYKvcE-7o",
    "outputId": "f5ea18a1-48c1-4253-c965-1d3ad7be4a5f"
   },
   "outputs": [
    {
     "name": "stdout",
     "output_type": "stream",
     "text": [
      "std = 1\n",
      "estimated_std = 0.998\n"
     ]
    }
   ],
   "source": [
    "std = 1\n",
    "data = np.random.normal(1, std, 1000)\n",
    "estimated_std = np.std(data)\n",
    "print(f'std = {std}')\n",
    "print(f'estimated_std = {estimated_std:0.3f}')"
   ]
  },
  {
   "cell_type": "markdown",
   "metadata": {
    "id": "Qyb9KdRtE-7o"
   },
   "source": [
    "# 4. Свойства оценок\n",
    "## 4.1. Несмещённость\n",
    "\n",
    "$\\hat{\\theta}$ или $\\hat{\\theta}_n$ — оценка параметра $\\theta$.\n",
    "\n",
    "$\\hat{\\theta}_n = g(X_1,\\ldots,X_n)$ — случайная величина, т.к. зависит от данных.\n",
    "\n",
    "\n",
    "Оценка $\\hat{\\theta}_n$ **несмещённая**, если $\\mathbb{E}(\\hat{\\theta}_n) = \\theta$.\n",
    "\n",
    "\n",
    "### Пример\n",
    "\n",
    "$X_1,\\ldots,X_n\\sim F$, покажем, что $\\overline{X}$ является несмещённой оценкой $\\mathbb{E} X = m$.\n",
    "\n",
    "$\\displaystyle \\mathbb{E} \\hat{m} = \\mathbb{E} \\left( \\frac1n \\sum_{i=1}^n X_i  \\right) = \\frac1n \\sum_{i=1}^n \\mathbb{E} X_i = \\frac1n \\sum_{i=1}^n m = \\frac{ n m}{n}= m$\n"
   ]
  },
  {
   "cell_type": "code",
   "execution_count": 22,
   "metadata": {
    "colab": {
     "base_uri": "https://localhost:8080/"
    },
    "executionInfo": {
     "elapsed": 79,
     "status": "ok",
     "timestamp": 1674542174993,
     "user": {
      "displayName": "Nikolay Nazarov",
      "userId": "18018785782997408667"
     },
     "user_tz": -420
    },
    "id": "ebj36LzJE-7q",
    "outputId": "02b0412c-ae78-4e2f-c952-77b167d5a234"
   },
   "outputs": [
    {
     "name": "stdout",
     "output_type": "stream",
     "text": [
      "estimated_mean = 10.045\n"
     ]
    }
   ],
   "source": [
    "mean = 10\n",
    "size = 100\n",
    "data = np.random.normal(mean, 1, size)\n",
    "estimated_mean = np.mean(data)\n",
    "\n",
    "print(f'estimated_mean = {estimated_mean:0.3f}')"
   ]
  },
  {
   "cell_type": "markdown",
   "metadata": {
    "id": "2GTAIqfCE-7r"
   },
   "source": [
    "Доверительный интервал для среднего средних"
   ]
  },
  {
   "cell_type": "code",
   "execution_count": 23,
   "metadata": {
    "colab": {
     "base_uri": "https://localhost:8080/"
    },
    "executionInfo": {
     "elapsed": 66,
     "status": "ok",
     "timestamp": 1674542174994,
     "user": {
      "displayName": "Nikolay Nazarov",
      "userId": "18018785782997408667"
     },
     "user_tz": -420
    },
    "id": "0HWATQ57E-7r",
    "outputId": "714f9d88-f57c-4a1b-a75a-fa53d6533018"
   },
   "outputs": [
    {
     "name": "stdout",
     "output_type": "stream",
     "text": [
      "9.999485093859214 10.00072902067894\n"
     ]
    }
   ],
   "source": [
    "n = 100000\n",
    "means = np.random.normal(mean, 1, (n, size)).mean(axis=1)\n",
    "mean_means = np.mean(means)\n",
    "std_means = np.std(means) / n ** 0.5\n",
    "\n",
    "print(mean_means - 1.96 * std_means, mean_means + 1.96 * std_means)"
   ]
  },
  {
   "cell_type": "markdown",
   "metadata": {
    "id": "vnRspr-pE-7s"
   },
   "source": [
    "## 4.2. Состоятельность\n",
    "\n",
    "Сходимость по вероятности: $\\forall \\epsilon>0$ выполняется $\\mathbb{P}(|\\hat{\\theta}_n - \\theta|>\\epsilon)\\overset{n\\to \\infty}{\\to} 0$.\n",
    "\n",
    "Оценка $\\hat{\\theta}_n$ **состоятельная**, если $\\hat{\\theta}_n \\overset{\\mathbb{P}}{\\to} \\theta$.\n",
    "\n",
    "### Пример\n",
    "\n",
    "Дана выборка независимых одинаково распределённых случайных величин $X_1,\\ldots,X_n\\sim F$. Покажем, что оценка математического ожидания $\\displaystyle \\hat{\\theta}=\\dfrac{1}{n}\\sum_i X_i$ является состоятельной.\n",
    "\n",
    "$$\\mathbb{V}(\\hat{\\theta})=\\mathbb{V}\\left(\\dfrac{1}{n}\\sum_i X_i\\right) = \\dfrac{1}{n^2}\\mathbb{V}\\left(\\sum_i X_i\\right) = \\dfrac{1}{n^2}n\\sigma^2 = \\dfrac{\\sigma^2}{n}$$\n",
    "\n",
    "Неравенство Чебышёва\n",
    "$\\mathbb{P}(|\\hat{\\theta}-\\theta|>\\epsilon)\\leq \\dfrac{\\mathbb{V}(\\hat{\\theta})}{\\epsilon^2}$. Получаем\n",
    "$$\\mathbb{P}(|\\hat{\\theta}-\\theta|>\\epsilon)\\leq \\dfrac{\\sigma^2}{n \\epsilon^2} \\to 0, \\ n\\to \\infty$$\n"
   ]
  },
  {
   "cell_type": "code",
   "execution_count": 30,
   "metadata": {
    "colab": {
     "base_uri": "https://localhost:8080/",
     "height": 420
    },
    "executionInfo": {
     "elapsed": 5863,
     "status": "ok",
     "timestamp": 1674542180806,
     "user": {
      "displayName": "Nikolay Nazarov",
      "userId": "18018785782997408667"
     },
     "user_tz": -420
    },
    "id": "VRW0785FE-7s",
    "outputId": "8560eb93-f26b-4211-e0bb-a152b1f4c139"
   },
   "outputs": [
    {
     "data": {
      "image/png": "[encoded data removed]",
      "text/plain": [
       "<Figure size 1000x600 with 1 Axes>"
      ]
     },
     "metadata": {},
     "output_type": "display_data"
    }
   ],
   "source": [
    "sizes = np.logspace(2, 5, 10).astype(int)\n",
    "\n",
    "mean_means = []\n",
    "std_means = []\n",
    "for size_ in sizes:\n",
    "    means_ = []\n",
    "    for _ in range(1000):\n",
    "        data_ = np.random.normal(mean, 1, size_)\n",
    "        means_.append(np.mean(data_))\n",
    "    mean_means.append(np.mean(means_))\n",
    "    std_means.append(np.std(means_))\n",
    "\n",
    "lower_bounds = []\n",
    "upper_bounds = []\n",
    "for mean_, std_ in zip(mean_means, std_means):\n",
    "    lower_bounds.append(mean_ - 1.96 * std_)\n",
    "    upper_bounds.append(mean_ + 1.96 * std_)\n",
    "\n",
    "plt.plot(sizes, mean_means, label='mean means')\n",
    "plt.fill_between(sizes, lower_bounds, upper_bounds, alpha=0.3, label='95% доверительный интервал')\n",
    "plt.xscale('log')\n",
    "plt.title('Сходимость среднего средних')\n",
    "plt.xlabel('size')\n",
    "plt.legend()\n",
    "plt.grid()\n",
    "plt.show()"
   ]
  },
  {
   "cell_type": "markdown",
   "metadata": {
    "id": "3QqeBBlDE-7t"
   },
   "source": [
    "# 4.3. Три варианта оценки среднего\n",
    "\n",
    "$ \\hat{m}_1 = \\dfrac{X_1 + \\ldots + X_n}{n} $\n",
    "\n",
    "$ \\hat{m}_2 = min(X_1, ..., X_n) $\n",
    "\n",
    "$ \\hat{m}_3 = X_1 $"
   ]
  },
  {
   "cell_type": "markdown",
   "metadata": {
    "id": "LyFg4TWQE-7u"
   },
   "source": [
    "#### Покажем, что $\\hat{m}_2$ не несмещённая оценка"
   ]
  },
  {
   "cell_type": "code",
   "execution_count": 31,
   "metadata": {
    "colab": {
     "base_uri": "https://localhost:8080/"
    },
    "executionInfo": {
     "elapsed": 26,
     "status": "ok",
     "timestamp": 1674542180807,
     "user": {
      "displayName": "Nikolay Nazarov",
      "userId": "18018785782997408667"
     },
     "user_tz": -420
    },
    "id": "-TwqMBiHE-7u",
    "outputId": "714611c6-82a4-4f48-bff2-37a536102e0b",
    "scrolled": true
   },
   "outputs": [
    {
     "name": "stdout",
     "output_type": "stream",
     "text": [
      "7.491885775710408 7.497212939322788\n"
     ]
    }
   ],
   "source": [
    "n = 100000\n",
    "mean = 10\n",
    "\n",
    "mins = np.random.normal(mean, 1, (n, size)).min(axis=1)\n",
    "mean_mins = np.mean(mins)\n",
    "std_mins = np.std(mins) / n ** 0.5\n",
    "\n",
    "print(mean_mins - 1.96 * std_mins, mean_mins + 1.96 * std_mins)"
   ]
  },
  {
   "cell_type": "markdown",
   "metadata": {
    "id": "_fs0T7gtE-7w"
   },
   "source": [
    "#### Покажем, что $\\hat{m}_3$ несмещённая оценка"
   ]
  },
  {
   "cell_type": "code",
   "execution_count": 32,
   "metadata": {
    "colab": {
     "base_uri": "https://localhost:8080/"
    },
    "executionInfo": {
     "elapsed": 876,
     "status": "ok",
     "timestamp": 1674542181672,
     "user": {
      "displayName": "Nikolay Nazarov",
      "userId": "18018785782997408667"
     },
     "user_tz": -420
    },
    "id": "QrkfvC80E-7y",
    "outputId": "0ecb39ee-1c80-49f9-bcf0-6c0178ac730e"
   },
   "outputs": [
    {
     "name": "stdout",
     "output_type": "stream",
     "text": [
      "9.998302558097892 10.010723489340675\n"
     ]
    }
   ],
   "source": [
    "n = 100000\n",
    "mean = 10\n",
    "\n",
    "mins = np.random.normal(mean, 1, (n, size))[:, 0]\n",
    "mean_mins = np.mean(mins)\n",
    "std_mins = np.std(mins) / n ** 0.5\n",
    "\n",
    "print(mean_mins - 1.96 * std_mins, mean_mins + 1.96 * std_mins)"
   ]
  },
  {
   "cell_type": "markdown",
   "metadata": {
    "id": "-19rTq4kE-70"
   },
   "source": [
    "#### Покажем, что $\\hat{m}_3$ не состоятельная оценка"
   ]
  },
  {
   "cell_type": "code",
   "execution_count": 33,
   "metadata": {
    "colab": {
     "base_uri": "https://localhost:8080/",
     "height": 420
    },
    "executionInfo": {
     "elapsed": 9969,
     "status": "ok",
     "timestamp": 1674542191638,
     "user": {
      "displayName": "Nikolay Nazarov",
      "userId": "18018785782997408667"
     },
     "user_tz": -420
    },
    "id": "zM-8qhgzE-71",
    "outputId": "3a1d44ab-1d80-4b7f-c954-43faa4911eb9"
   },
   "outputs": [
    {
     "data": {
      "image/png": "[encoded data removed]",
      "text/plain": [
       "<Figure size 1000x600 with 1 Axes>"
      ]
     },
     "metadata": {},
     "output_type": "display_data"
    }
   ],
   "source": [
    "sizes = np.logspace(2, 5, 10).astype(int)\n",
    "\n",
    "mean_means = []\n",
    "std_means = []\n",
    "for size_ in sizes:\n",
    "    means_ = []\n",
    "    for _ in range(1000):\n",
    "        data_ = np.random.normal(mean, 1, size_)\n",
    "        means_.append(data_[0])\n",
    "    mean_means.append(np.mean(means_))\n",
    "    std_means.append(np.std(means_))\n",
    "\n",
    "lower_bounds = []\n",
    "upper_bounds = []\n",
    "for mean_, std_ in zip(mean_means, std_means):\n",
    "    lower_bounds.append(mean_ - 1.96 * std_)\n",
    "    upper_bounds.append(mean_ + 1.96 * std_)\n",
    "\n",
    "plt.plot(sizes, mean_means, label='mean means')\n",
    "plt.fill_between(sizes, lower_bounds, upper_bounds, alpha=0.3, label='95% доверительный интервал')\n",
    "plt.xscale('log')\n",
    "plt.title('Сходимость среднего средних')\n",
    "plt.xlabel('size')\n",
    "plt.legend()\n",
    "plt.grid()\n",
    "plt.show()"
   ]
  },
  {
   "cell_type": "markdown",
   "metadata": {
    "id": "J0e6jLVmE-72"
   },
   "source": [
    "# 5. Данные пиццерии\n",
    "\n",
    "С помощью **pandas** можно удобно работать с табличными данными."
   ]
  },
  {
   "cell_type": "code",
   "execution_count": 34,
   "metadata": {
    "executionInfo": {
     "elapsed": 580,
     "status": "ok",
     "timestamp": 1674542192205,
     "user": {
      "displayName": "Nikolay Nazarov",
      "userId": "18018785782997408667"
     },
     "user_tz": -420
    },
    "id": "agQEC38nE-72"
   },
   "outputs": [],
   "source": [
    "import os\n",
    "import pandas as pd"
   ]
  },
  {
   "cell_type": "code",
   "execution_count": 35,
   "metadata": {
    "executionInfo": {
     "elapsed": 6,
     "status": "ok",
     "timestamp": 1674542192206,
     "user": {
      "displayName": "Nikolay Nazarov",
      "userId": "18018785782997408667"
     },
     "user_tz": -420
    },
    "id": "xxFeCfFuFKng"
   },
   "outputs": [],
   "source": [
    "URL_BASE = 'https://raw.githubusercontent.com/ab-courses/simulator-ab-datasets/main/2022-04-01/'\n",
    "\n",
    "def read_database(file_name):\n",
    "    return pd.read_csv(os.path.join(URL_BASE, file_name))"
   ]
  },
  {
   "cell_type": "code",
   "execution_count": 36,
   "metadata": {
    "executionInfo": {
     "elapsed": 6399,
     "status": "ok",
     "timestamp": 1674542198600,
     "user": {
      "displayName": "Nikolay Nazarov",
      "userId": "18018785782997408667"
     },
     "user_tz": -420
    },
    "id": "nQGxlqByE-73"
   },
   "outputs": [],
   "source": [
    "df_sales = read_database('2022-04-01T12_df_sales.csv')\n",
    "df_web_logs = read_database('2022-04-01T12_df_web_logs.csv')\n",
    "\n",
    "df_sales['date'] = pd.to_datetime(df_sales['date'])\n",
    "df_web_logs['date'] = pd.to_datetime(df_web_logs['date'])"
   ]
  },
  {
   "cell_type": "markdown",
   "metadata": {
    "id": "nNRTGF6aBHrZ"
   },
   "source": [
    "df_sales - информация о покупках, одна строка - один заказ. Атрибуты:\n",
    "- sale_id - идентификатор покупки;\n",
    "- date - дата покупки;\n",
    "- count_pizza - количество пицц в заказе;\n",
    "- count_drink - количество напитков в заказе;\n",
    "- price - стоимость заказа;\n",
    "- user_id - идентификатор пользователя;\n",
    "\n",
    "df_web_logs - талица с логами посещения сайта. Атрибуты:\n",
    "- user_id - идентификатор пользователя;\n",
    "- page - какая страница сайта была открыта. Типы страниц:\n",
    "  - m - страница с меню;\n",
    "  - b - страница с корзиной и подтверждением заказа;\n",
    "  - p - страница с оплатой заказа;\n",
    "- date - дата открытия страницы;\n",
    "- load_time - время загрузки страницы в миллисекундах."
   ]
  },
  {
   "cell_type": "code",
   "execution_count": 37,
   "metadata": {
    "colab": {
     "base_uri": "https://localhost:8080/",
     "height": 204
    },
    "executionInfo": {
     "elapsed": 53,
     "status": "ok",
     "timestamp": 1674542198602,
     "user": {
      "displayName": "Nikolay Nazarov",
      "userId": "18018785782997408667"
     },
     "user_tz": -420
    },
    "id": "0dZkzMMTE-73",
    "outputId": "44f7566a-b32d-4479-b963-7c5977351149"
   },
   "outputs": [
    {
     "data": {
      "text/html": [
       "<div>\n",
       "<style scoped>\n",
       "    .dataframe tbody tr th:only-of-type {\n",
       "        vertical-align: middle;\n",
       "    }\n",
       "\n",
       "    .dataframe tbody tr th {\n",
       "        vertical-align: top;\n",
       "    }\n",
       "\n",
       "    .dataframe thead th {\n",
       "        text-align: right;\n",
       "    }\n",
       "</style>\n",
       "<table border=\"1\" class=\"dataframe\">\n",
       "  <thead>\n",
       "    <tr style=\"text-align: right;\">\n",
       "      <th></th>\n",
       "      <th>sale_id</th>\n",
       "      <th>date</th>\n",
       "      <th>count_pizza</th>\n",
       "      <th>count_drink</th>\n",
       "      <th>price</th>\n",
       "      <th>user_id</th>\n",
       "    </tr>\n",
       "  </thead>\n",
       "  <tbody>\n",
       "    <tr>\n",
       "      <th>0</th>\n",
       "      <td>1000001</td>\n",
       "      <td>2022-02-04 10:00:24</td>\n",
       "      <td>1</td>\n",
       "      <td>0</td>\n",
       "      <td>720</td>\n",
       "      <td>1c1543</td>\n",
       "    </tr>\n",
       "    <tr>\n",
       "      <th>1</th>\n",
       "      <td>1000002</td>\n",
       "      <td>2022-02-04 10:02:28</td>\n",
       "      <td>1</td>\n",
       "      <td>1</td>\n",
       "      <td>930</td>\n",
       "      <td>a9a6e8</td>\n",
       "    </tr>\n",
       "    <tr>\n",
       "      <th>2</th>\n",
       "      <td>1000003</td>\n",
       "      <td>2022-02-04 10:02:35</td>\n",
       "      <td>3</td>\n",
       "      <td>1</td>\n",
       "      <td>1980</td>\n",
       "      <td>23420a</td>\n",
       "    </tr>\n",
       "    <tr>\n",
       "      <th>3</th>\n",
       "      <td>1000004</td>\n",
       "      <td>2022-02-04 10:03:06</td>\n",
       "      <td>1</td>\n",
       "      <td>1</td>\n",
       "      <td>750</td>\n",
       "      <td>3e8ed5</td>\n",
       "    </tr>\n",
       "    <tr>\n",
       "      <th>4</th>\n",
       "      <td>1000005</td>\n",
       "      <td>2022-02-04 10:03:23</td>\n",
       "      <td>1</td>\n",
       "      <td>1</td>\n",
       "      <td>870</td>\n",
       "      <td>cbc468</td>\n",
       "    </tr>\n",
       "  </tbody>\n",
       "</table>\n",
       "</div>"
      ],
      "text/plain": [
       "   sale_id                date  count_pizza  count_drink  price user_id\n",
       "0  1000001 2022-02-04 10:00:24            1            0    720  1c1543\n",
       "1  1000002 2022-02-04 10:02:28            1            1    930  a9a6e8\n",
       "2  1000003 2022-02-04 10:02:35            3            1   1980  23420a\n",
       "3  1000004 2022-02-04 10:03:06            1            1    750  3e8ed5\n",
       "4  1000005 2022-02-04 10:03:23            1            1    870  cbc468"
      ]
     },
     "execution_count": 37,
     "metadata": {},
     "output_type": "execute_result"
    }
   ],
   "source": [
    "df_sales.head()"
   ]
  },
  {
   "cell_type": "code",
   "execution_count": 38,
   "metadata": {
    "colab": {
     "base_uri": "https://localhost:8080/",
     "height": 204
    },
    "executionInfo": {
     "elapsed": 50,
     "status": "ok",
     "timestamp": 1674542198603,
     "user": {
      "displayName": "Nikolay Nazarov",
      "userId": "18018785782997408667"
     },
     "user_tz": -420
    },
    "id": "wKEaqYGMYSuC",
    "outputId": "4b5cf4bd-7561-40c7-94ae-55ad9ba9a8d8"
   },
   "outputs": [
    {
     "data": {
      "text/html": [
       "<div>\n",
       "<style scoped>\n",
       "    .dataframe tbody tr th:only-of-type {\n",
       "        vertical-align: middle;\n",
       "    }\n",
       "\n",
       "    .dataframe tbody tr th {\n",
       "        vertical-align: top;\n",
       "    }\n",
       "\n",
       "    .dataframe thead th {\n",
       "        text-align: right;\n",
       "    }\n",
       "</style>\n",
       "<table border=\"1\" class=\"dataframe\">\n",
       "  <thead>\n",
       "    <tr style=\"text-align: right;\">\n",
       "      <th></th>\n",
       "      <th>user_id</th>\n",
       "      <th>page</th>\n",
       "      <th>date</th>\n",
       "      <th>load_time</th>\n",
       "    </tr>\n",
       "  </thead>\n",
       "  <tbody>\n",
       "    <tr>\n",
       "      <th>0</th>\n",
       "      <td>f25239</td>\n",
       "      <td>m</td>\n",
       "      <td>2022-02-03 23:45:37</td>\n",
       "      <td>80.8</td>\n",
       "    </tr>\n",
       "    <tr>\n",
       "      <th>1</th>\n",
       "      <td>06d6df</td>\n",
       "      <td>m</td>\n",
       "      <td>2022-02-03 23:49:56</td>\n",
       "      <td>70.5</td>\n",
       "    </tr>\n",
       "    <tr>\n",
       "      <th>2</th>\n",
       "      <td>06d6df</td>\n",
       "      <td>m</td>\n",
       "      <td>2022-02-03 23:51:16</td>\n",
       "      <td>89.7</td>\n",
       "    </tr>\n",
       "    <tr>\n",
       "      <th>3</th>\n",
       "      <td>f25239</td>\n",
       "      <td>m</td>\n",
       "      <td>2022-02-03 23:51:43</td>\n",
       "      <td>74.4</td>\n",
       "    </tr>\n",
       "    <tr>\n",
       "      <th>4</th>\n",
       "      <td>697870</td>\n",
       "      <td>m</td>\n",
       "      <td>2022-02-03 23:53:12</td>\n",
       "      <td>66.8</td>\n",
       "    </tr>\n",
       "  </tbody>\n",
       "</table>\n",
       "</div>"
      ],
      "text/plain": [
       "  user_id page                date  load_time\n",
       "0  f25239    m 2022-02-03 23:45:37       80.8\n",
       "1  06d6df    m 2022-02-03 23:49:56       70.5\n",
       "2  06d6df    m 2022-02-03 23:51:16       89.7\n",
       "3  f25239    m 2022-02-03 23:51:43       74.4\n",
       "4  697870    m 2022-02-03 23:53:12       66.8"
      ]
     },
     "execution_count": 38,
     "metadata": {},
     "output_type": "execute_result"
    }
   ],
   "source": [
    "df_web_logs.head()"
   ]
  },
  {
   "cell_type": "code",
   "execution_count": 39,
   "metadata": {
    "colab": {
     "base_uri": "https://localhost:8080/"
    },
    "executionInfo": {
     "elapsed": 47,
     "status": "ok",
     "timestamp": 1674542198604,
     "user": {
      "displayName": "Nikolay Nazarov",
      "userId": "18018785782997408667"
     },
     "user_tz": -420
    },
    "id": "7V6kRAAQE-74",
    "outputId": "e793461e-bf31-4981-a672-8afdd9f9dcf7"
   },
   "outputs": [
    {
     "data": {
      "text/plain": [
       "1206.014363713962"
      ]
     },
     "execution_count": 39,
     "metadata": {},
     "output_type": "execute_result"
    }
   ],
   "source": [
    "# среднее по столбцу\n",
    "df_sales['price'].mean()"
   ]
  },
  {
   "cell_type": "code",
   "execution_count": 40,
   "metadata": {
    "colab": {
     "base_uri": "https://localhost:8080/",
     "height": 142
    },
    "executionInfo": {
     "elapsed": 35,
     "status": "ok",
     "timestamp": 1674542198605,
     "user": {
      "displayName": "Nikolay Nazarov",
      "userId": "18018785782997408667"
     },
     "user_tz": -420
    },
    "id": "3ldqzRUvE-75",
    "outputId": "0aec2bb8-8ee0-41cc-e170-6a7fe85c317c"
   },
   "outputs": [
    {
     "data": {
      "text/html": [
       "<div>\n",
       "<style scoped>\n",
       "    .dataframe tbody tr th:only-of-type {\n",
       "        vertical-align: middle;\n",
       "    }\n",
       "\n",
       "    .dataframe tbody tr th {\n",
       "        vertical-align: top;\n",
       "    }\n",
       "\n",
       "    .dataframe thead th {\n",
       "        text-align: right;\n",
       "    }\n",
       "</style>\n",
       "<table border=\"1\" class=\"dataframe\">\n",
       "  <thead>\n",
       "    <tr style=\"text-align: right;\">\n",
       "      <th></th>\n",
       "      <th>sale_id</th>\n",
       "      <th>date</th>\n",
       "      <th>count_pizza</th>\n",
       "      <th>count_drink</th>\n",
       "      <th>price</th>\n",
       "      <th>user_id</th>\n",
       "    </tr>\n",
       "  </thead>\n",
       "  <tbody>\n",
       "    <tr>\n",
       "      <th>0</th>\n",
       "      <td>1000001</td>\n",
       "      <td>2022-02-04 10:00:24</td>\n",
       "      <td>1</td>\n",
       "      <td>0</td>\n",
       "      <td>720</td>\n",
       "      <td>1c1543</td>\n",
       "    </tr>\n",
       "    <tr>\n",
       "      <th>77722</th>\n",
       "      <td>1077723</td>\n",
       "      <td>2022-02-25 14:07:20</td>\n",
       "      <td>1</td>\n",
       "      <td>0</td>\n",
       "      <td>720</td>\n",
       "      <td>1c1543</td>\n",
       "    </tr>\n",
       "    <tr>\n",
       "      <th>163390</th>\n",
       "      <td>1163391</td>\n",
       "      <td>2022-03-20 18:16:03</td>\n",
       "      <td>1</td>\n",
       "      <td>0</td>\n",
       "      <td>720</td>\n",
       "      <td>1c1543</td>\n",
       "    </tr>\n",
       "  </tbody>\n",
       "</table>\n",
       "</div>"
      ],
      "text/plain": [
       "        sale_id                date  count_pizza  count_drink  price user_id\n",
       "0       1000001 2022-02-04 10:00:24            1            0    720  1c1543\n",
       "77722   1077723 2022-02-25 14:07:20            1            0    720  1c1543\n",
       "163390  1163391 2022-03-20 18:16:03            1            0    720  1c1543"
      ]
     },
     "execution_count": 40,
     "metadata": {},
     "output_type": "execute_result"
    }
   ],
   "source": [
    "# фильтрация данных\n",
    "df_sales[df_sales['user_id'] == '1c1543']"
   ]
  },
  {
   "cell_type": "code",
   "execution_count": 41,
   "metadata": {
    "colab": {
     "base_uri": "https://localhost:8080/"
    },
    "executionInfo": {
     "elapsed": 34,
     "status": "ok",
     "timestamp": 1674542198606,
     "user": {
      "displayName": "Nikolay Nazarov",
      "userId": "18018785782997408667"
     },
     "user_tz": -420
    },
    "id": "mr1iyytnE-76",
    "outputId": "2c7cc4a8-a634-4e09-ebf0-f889359e379c"
   },
   "outputs": [
    {
     "data": {
      "text/plain": [
       "user_id\n",
       "000096    2\n",
       "0000d4    2\n",
       "0000de    3\n",
       "0000e4    2\n",
       "000112    1\n",
       "         ..\n",
       "fffc97    1\n",
       "fffcab    2\n",
       "fffd64    1\n",
       "ffff62    1\n",
       "ffff8f    2\n",
       "Name: price, Length: 99778, dtype: int64"
      ]
     },
     "execution_count": 41,
     "metadata": {},
     "output_type": "execute_result"
    }
   ],
   "source": [
    "# группировка данных\n",
    "df_sales.groupby('user_id')['price'].count()"
   ]
  },
  {
   "cell_type": "code",
   "execution_count": 42,
   "metadata": {
    "colab": {
     "base_uri": "https://localhost:8080/"
    },
    "executionInfo": {
     "elapsed": 965,
     "status": "ok",
     "timestamp": 1674542199551,
     "user": {
      "displayName": "Nikolay Nazarov",
      "userId": "18018785782997408667"
     },
     "user_tz": -420
    },
    "id": "UOn5AsACE-77",
    "outputId": "14ac6c91-e825-4fb3-969e-770e0d1505b7"
   },
   "outputs": [
    {
     "data": {
      "text/plain": [
       "3"
      ]
     },
     "execution_count": 42,
     "metadata": {},
     "output_type": "execute_result"
    }
   ],
   "source": [
    "# проверим что у пользователя '1c1543' действительной 3 покупки\n",
    "df_sales.groupby('user_id')['price'].count()['1c1543']"
   ]
  },
  {
   "cell_type": "markdown",
   "metadata": {
    "id": "E2XOboK-E-78"
   },
   "source": [
    "### Объединение таблиц\n",
    "\n",
    "Как часто пользователь заходит на сайт и ничего не покупает в этот день?"
   ]
  },
  {
   "cell_type": "code",
   "execution_count": 43,
   "metadata": {
    "colab": {
     "base_uri": "https://localhost:8080/",
     "height": 204
    },
    "executionInfo": {
     "elapsed": 84,
     "status": "ok",
     "timestamp": 1674542199553,
     "user": {
      "displayName": "Nikolay Nazarov",
      "userId": "18018785782997408667"
     },
     "user_tz": -420
    },
    "id": "iNBzh1ErE-78",
    "outputId": "1204d0c3-0a10-45da-ee36-ea50c8570cd8"
   },
   "outputs": [
    {
     "data": {
      "text/html": [
       "<div>\n",
       "<style scoped>\n",
       "    .dataframe tbody tr th:only-of-type {\n",
       "        vertical-align: middle;\n",
       "    }\n",
       "\n",
       "    .dataframe tbody tr th {\n",
       "        vertical-align: top;\n",
       "    }\n",
       "\n",
       "    .dataframe thead th {\n",
       "        text-align: right;\n",
       "    }\n",
       "</style>\n",
       "<table border=\"1\" class=\"dataframe\">\n",
       "  <thead>\n",
       "    <tr style=\"text-align: right;\">\n",
       "      <th></th>\n",
       "      <th>user_id</th>\n",
       "      <th>page</th>\n",
       "      <th>date</th>\n",
       "      <th>load_time</th>\n",
       "    </tr>\n",
       "  </thead>\n",
       "  <tbody>\n",
       "    <tr>\n",
       "      <th>0</th>\n",
       "      <td>f25239</td>\n",
       "      <td>m</td>\n",
       "      <td>2022-02-03 23:45:37</td>\n",
       "      <td>80.8</td>\n",
       "    </tr>\n",
       "    <tr>\n",
       "      <th>1</th>\n",
       "      <td>06d6df</td>\n",
       "      <td>m</td>\n",
       "      <td>2022-02-03 23:49:56</td>\n",
       "      <td>70.5</td>\n",
       "    </tr>\n",
       "    <tr>\n",
       "      <th>2</th>\n",
       "      <td>06d6df</td>\n",
       "      <td>m</td>\n",
       "      <td>2022-02-03 23:51:16</td>\n",
       "      <td>89.7</td>\n",
       "    </tr>\n",
       "    <tr>\n",
       "      <th>3</th>\n",
       "      <td>f25239</td>\n",
       "      <td>m</td>\n",
       "      <td>2022-02-03 23:51:43</td>\n",
       "      <td>74.4</td>\n",
       "    </tr>\n",
       "    <tr>\n",
       "      <th>4</th>\n",
       "      <td>697870</td>\n",
       "      <td>m</td>\n",
       "      <td>2022-02-03 23:53:12</td>\n",
       "      <td>66.8</td>\n",
       "    </tr>\n",
       "  </tbody>\n",
       "</table>\n",
       "</div>"
      ],
      "text/plain": [
       "  user_id page                date  load_time\n",
       "0  f25239    m 2022-02-03 23:45:37       80.8\n",
       "1  06d6df    m 2022-02-03 23:49:56       70.5\n",
       "2  06d6df    m 2022-02-03 23:51:16       89.7\n",
       "3  f25239    m 2022-02-03 23:51:43       74.4\n",
       "4  697870    m 2022-02-03 23:53:12       66.8"
      ]
     },
     "execution_count": 43,
     "metadata": {},
     "output_type": "execute_result"
    }
   ],
   "source": [
    "df_web_logs.head()"
   ]
  },
  {
   "cell_type": "code",
   "execution_count": 44,
   "metadata": {
    "executionInfo": {
     "elapsed": 1612,
     "status": "ok",
     "timestamp": 1674542201089,
     "user": {
      "displayName": "Nikolay Nazarov",
      "userId": "18018785782997408667"
     },
     "user_tz": -420
    },
    "id": "PQO4UJrJE-79"
   },
   "outputs": [],
   "source": [
    "# добавляем столбец с датой без времени\n",
    "df_web_logs['day'] = df_web_logs['date'].dt.date\n",
    "df_sales['day'] = df_sales['date'].dt.date"
   ]
  },
  {
   "cell_type": "code",
   "execution_count": 45,
   "metadata": {
    "colab": {
     "base_uri": "https://localhost:8080/",
     "height": 111
    },
    "executionInfo": {
     "elapsed": 14,
     "status": "ok",
     "timestamp": 1674542201090,
     "user": {
      "displayName": "Nikolay Nazarov",
      "userId": "18018785782997408667"
     },
     "user_tz": -420
    },
    "id": "d3fitOGaE-79",
    "outputId": "d02594d3-54d5-4c34-eb2e-2e8f4f7f89aa"
   },
   "outputs": [
    {
     "data": {
      "text/html": [
       "<div>\n",
       "<style scoped>\n",
       "    .dataframe tbody tr th:only-of-type {\n",
       "        vertical-align: middle;\n",
       "    }\n",
       "\n",
       "    .dataframe tbody tr th {\n",
       "        vertical-align: top;\n",
       "    }\n",
       "\n",
       "    .dataframe thead th {\n",
       "        text-align: right;\n",
       "    }\n",
       "</style>\n",
       "<table border=\"1\" class=\"dataframe\">\n",
       "  <thead>\n",
       "    <tr style=\"text-align: right;\">\n",
       "      <th></th>\n",
       "      <th>user_id</th>\n",
       "      <th>page</th>\n",
       "      <th>date</th>\n",
       "      <th>load_time</th>\n",
       "      <th>day</th>\n",
       "    </tr>\n",
       "  </thead>\n",
       "  <tbody>\n",
       "    <tr>\n",
       "      <th>0</th>\n",
       "      <td>f25239</td>\n",
       "      <td>m</td>\n",
       "      <td>2022-02-03 23:45:37</td>\n",
       "      <td>80.8</td>\n",
       "      <td>2022-02-03</td>\n",
       "    </tr>\n",
       "    <tr>\n",
       "      <th>1</th>\n",
       "      <td>06d6df</td>\n",
       "      <td>m</td>\n",
       "      <td>2022-02-03 23:49:56</td>\n",
       "      <td>70.5</td>\n",
       "      <td>2022-02-03</td>\n",
       "    </tr>\n",
       "  </tbody>\n",
       "</table>\n",
       "</div>"
      ],
      "text/plain": [
       "  user_id page                date  load_time         day\n",
       "0  f25239    m 2022-02-03 23:45:37       80.8  2022-02-03\n",
       "1  06d6df    m 2022-02-03 23:49:56       70.5  2022-02-03"
      ]
     },
     "execution_count": 45,
     "metadata": {},
     "output_type": "execute_result"
    }
   ],
   "source": [
    "df_web_logs.head(2)"
   ]
  },
  {
   "cell_type": "code",
   "execution_count": 47,
   "metadata": {
    "executionInfo": {
     "elapsed": 2443,
     "status": "ok",
     "timestamp": 1674542203525,
     "user": {
      "displayName": "Nikolay Nazarov",
      "userId": "18018785782997408667"
     },
     "user_tz": -420
    },
    "id": "KMob08YQE-7-"
   },
   "outputs": [],
   "source": [
    "# делаем таблицы с уникальными парами человек-дата\n",
    "user_day_web = df_web_logs[['user_id', 'day', 'page']].groupby(['user_id', 'day'])[['page']].count()\n",
    "user_day_sale = df_sales[['user_id', 'day', 'price']].groupby(['user_id', 'day'])[['price']].sum()"
   ]
  },
  {
   "cell_type": "code",
   "execution_count": 35,
   "metadata": {
    "colab": {
     "base_uri": "https://localhost:8080/"
    },
    "executionInfo": {
     "elapsed": 32,
     "status": "ok",
     "timestamp": 1674542203526,
     "user": {
      "displayName": "Nikolay Nazarov",
      "userId": "18018785782997408667"
     },
     "user_tz": -420
    },
    "id": "GA0ABpI4E-7_",
    "outputId": "c2ec6be4-5fc7-4c5a-a276-533060056746"
   },
   "outputs": [
    {
     "data": {
      "text/plain": [
       "(303127, 203155)"
      ]
     },
     "execution_count": 35,
     "metadata": {},
     "output_type": "execute_result"
    }
   ],
   "source": [
    "len(user_day_web), len(user_day_sale)"
   ]
  },
  {
   "cell_type": "code",
   "execution_count": 48,
   "metadata": {
    "colab": {
     "base_uri": "https://localhost:8080/",
     "height": 235
    },
    "executionInfo": {
     "elapsed": 29,
     "status": "ok",
     "timestamp": 1674542203527,
     "user": {
      "displayName": "Nikolay Nazarov",
      "userId": "18018785782997408667"
     },
     "user_tz": -420
    },
    "id": "W4mmdKlTE-8A",
    "outputId": "2c9bbc48-0c4d-4227-8459-a3f2dafb4676"
   },
   "outputs": [
    {
     "data": {
      "text/html": [
       "<div>\n",
       "<style scoped>\n",
       "    .dataframe tbody tr th:only-of-type {\n",
       "        vertical-align: middle;\n",
       "    }\n",
       "\n",
       "    .dataframe tbody tr th {\n",
       "        vertical-align: top;\n",
       "    }\n",
       "\n",
       "    .dataframe thead th {\n",
       "        text-align: right;\n",
       "    }\n",
       "</style>\n",
       "<table border=\"1\" class=\"dataframe\">\n",
       "  <thead>\n",
       "    <tr style=\"text-align: right;\">\n",
       "      <th></th>\n",
       "      <th></th>\n",
       "      <th>page</th>\n",
       "    </tr>\n",
       "    <tr>\n",
       "      <th>user_id</th>\n",
       "      <th>day</th>\n",
       "      <th></th>\n",
       "    </tr>\n",
       "  </thead>\n",
       "  <tbody>\n",
       "    <tr>\n",
       "      <th rowspan=\"2\" valign=\"top\">000096</th>\n",
       "      <th>2022-03-04</th>\n",
       "      <td>8</td>\n",
       "    </tr>\n",
       "    <tr>\n",
       "      <th>2022-03-22</th>\n",
       "      <td>7</td>\n",
       "    </tr>\n",
       "    <tr>\n",
       "      <th rowspan=\"2\" valign=\"top\">0000d4</th>\n",
       "      <th>2022-02-28</th>\n",
       "      <td>9</td>\n",
       "    </tr>\n",
       "    <tr>\n",
       "      <th>2022-03-27</th>\n",
       "      <td>10</td>\n",
       "    </tr>\n",
       "    <tr>\n",
       "      <th>0000de</th>\n",
       "      <th>2022-02-11</th>\n",
       "      <td>6</td>\n",
       "    </tr>\n",
       "  </tbody>\n",
       "</table>\n",
       "</div>"
      ],
      "text/plain": [
       "                    page\n",
       "user_id day             \n",
       "000096  2022-03-04     8\n",
       "        2022-03-22     7\n",
       "0000d4  2022-02-28     9\n",
       "        2022-03-27    10\n",
       "0000de  2022-02-11     6"
      ]
     },
     "execution_count": 48,
     "metadata": {},
     "output_type": "execute_result"
    }
   ],
   "source": [
    "user_day_web.head()"
   ]
  },
  {
   "cell_type": "code",
   "execution_count": 49,
   "metadata": {
    "colab": {
     "base_uri": "https://localhost:8080/",
     "height": 235
    },
    "executionInfo": {
     "elapsed": 28,
     "status": "ok",
     "timestamp": 1674542203529,
     "user": {
      "displayName": "Nikolay Nazarov",
      "userId": "18018785782997408667"
     },
     "user_tz": -420
    },
    "id": "zdO0nQ4vE-8A",
    "outputId": "382f0b69-b8e5-45e9-ddfa-21d6519c18a5"
   },
   "outputs": [
    {
     "data": {
      "text/html": [
       "<div>\n",
       "<style scoped>\n",
       "    .dataframe tbody tr th:only-of-type {\n",
       "        vertical-align: middle;\n",
       "    }\n",
       "\n",
       "    .dataframe tbody tr th {\n",
       "        vertical-align: top;\n",
       "    }\n",
       "\n",
       "    .dataframe thead th {\n",
       "        text-align: right;\n",
       "    }\n",
       "</style>\n",
       "<table border=\"1\" class=\"dataframe\">\n",
       "  <thead>\n",
       "    <tr style=\"text-align: right;\">\n",
       "      <th></th>\n",
       "      <th></th>\n",
       "      <th>price</th>\n",
       "    </tr>\n",
       "    <tr>\n",
       "      <th>user_id</th>\n",
       "      <th>day</th>\n",
       "      <th></th>\n",
       "    </tr>\n",
       "  </thead>\n",
       "  <tbody>\n",
       "    <tr>\n",
       "      <th rowspan=\"2\" valign=\"top\">000096</th>\n",
       "      <th>2022-03-04</th>\n",
       "      <td>720</td>\n",
       "    </tr>\n",
       "    <tr>\n",
       "      <th>2022-03-22</th>\n",
       "      <td>720</td>\n",
       "    </tr>\n",
       "    <tr>\n",
       "      <th rowspan=\"2\" valign=\"top\">0000d4</th>\n",
       "      <th>2022-02-28</th>\n",
       "      <td>720</td>\n",
       "    </tr>\n",
       "    <tr>\n",
       "      <th>2022-03-27</th>\n",
       "      <td>720</td>\n",
       "    </tr>\n",
       "    <tr>\n",
       "      <th>0000de</th>\n",
       "      <th>2022-02-11</th>\n",
       "      <td>660</td>\n",
       "    </tr>\n",
       "  </tbody>\n",
       "</table>\n",
       "</div>"
      ],
      "text/plain": [
       "                    price\n",
       "user_id day              \n",
       "000096  2022-03-04    720\n",
       "        2022-03-22    720\n",
       "0000d4  2022-02-28    720\n",
       "        2022-03-27    720\n",
       "0000de  2022-02-11    660"
      ]
     },
     "execution_count": 49,
     "metadata": {},
     "output_type": "execute_result"
    }
   ],
   "source": [
    "user_day_sale.head()"
   ]
  },
  {
   "cell_type": "code",
   "execution_count": 51,
   "metadata": {
    "executionInfo": {
     "elapsed": 1142,
     "status": "ok",
     "timestamp": 1674542204648,
     "user": {
      "displayName": "Nikolay Nazarov",
      "userId": "18018785782997408667"
     },
     "user_tz": -420
    },
    "id": "FrfEY3ruE-8B"
   },
   "outputs": [],
   "source": [
    "# соединяем таблицы\n",
    "df_join = pd.merge(\n",
    "    user_day_web,\n",
    "    user_day_sale,\n",
    "    left_index=True,\n",
    "    right_index=True,\n",
    "    how='outer'\n",
    ")"
   ]
  },
  {
   "cell_type": "code",
   "execution_count": 52,
   "metadata": {
    "colab": {
     "base_uri": "https://localhost:8080/",
     "height": 450
    },
    "executionInfo": {
     "elapsed": 35,
     "status": "ok",
     "timestamp": 1674542204649,
     "user": {
      "displayName": "Nikolay Nazarov",
      "userId": "18018785782997408667"
     },
     "user_tz": -420
    },
    "id": "Ed9DDxuDE-8D",
    "outputId": "0806a853-3a57-40ed-a6f7-8acbe2311935"
   },
   "outputs": [
    {
     "data": {
      "text/html": [
       "<div>\n",
       "<style scoped>\n",
       "    .dataframe tbody tr th:only-of-type {\n",
       "        vertical-align: middle;\n",
       "    }\n",
       "\n",
       "    .dataframe tbody tr th {\n",
       "        vertical-align: top;\n",
       "    }\n",
       "\n",
       "    .dataframe thead th {\n",
       "        text-align: right;\n",
       "    }\n",
       "</style>\n",
       "<table border=\"1\" class=\"dataframe\">\n",
       "  <thead>\n",
       "    <tr style=\"text-align: right;\">\n",
       "      <th></th>\n",
       "      <th></th>\n",
       "      <th>page</th>\n",
       "      <th>price</th>\n",
       "    </tr>\n",
       "    <tr>\n",
       "      <th>user_id</th>\n",
       "      <th>day</th>\n",
       "      <th></th>\n",
       "      <th></th>\n",
       "    </tr>\n",
       "  </thead>\n",
       "  <tbody>\n",
       "    <tr>\n",
       "      <th rowspan=\"2\" valign=\"top\">000096</th>\n",
       "      <th>2022-03-04</th>\n",
       "      <td>8</td>\n",
       "      <td>720.0</td>\n",
       "    </tr>\n",
       "    <tr>\n",
       "      <th>2022-03-22</th>\n",
       "      <td>7</td>\n",
       "      <td>720.0</td>\n",
       "    </tr>\n",
       "    <tr>\n",
       "      <th rowspan=\"2\" valign=\"top\">0000d4</th>\n",
       "      <th>2022-02-28</th>\n",
       "      <td>9</td>\n",
       "      <td>720.0</td>\n",
       "    </tr>\n",
       "    <tr>\n",
       "      <th>2022-03-27</th>\n",
       "      <td>10</td>\n",
       "      <td>720.0</td>\n",
       "    </tr>\n",
       "    <tr>\n",
       "      <th>0000de</th>\n",
       "      <th>2022-02-11</th>\n",
       "      <td>6</td>\n",
       "      <td>660.0</td>\n",
       "    </tr>\n",
       "    <tr>\n",
       "      <th>...</th>\n",
       "      <th>...</th>\n",
       "      <td>...</td>\n",
       "      <td>...</td>\n",
       "    </tr>\n",
       "    <tr>\n",
       "      <th rowspan=\"2\" valign=\"top\">ffff18</th>\n",
       "      <th>2022-02-21</th>\n",
       "      <td>3</td>\n",
       "      <td>NaN</td>\n",
       "    </tr>\n",
       "    <tr>\n",
       "      <th>2022-03-28</th>\n",
       "      <td>4</td>\n",
       "      <td>NaN</td>\n",
       "    </tr>\n",
       "    <tr>\n",
       "      <th>ffff62</th>\n",
       "      <th>2022-03-19</th>\n",
       "      <td>8</td>\n",
       "      <td>2220.0</td>\n",
       "    </tr>\n",
       "    <tr>\n",
       "      <th rowspan=\"2\" valign=\"top\">ffff8f</th>\n",
       "      <th>2022-02-05</th>\n",
       "      <td>12</td>\n",
       "      <td>2220.0</td>\n",
       "    </tr>\n",
       "    <tr>\n",
       "      <th>2022-02-13</th>\n",
       "      <td>8</td>\n",
       "      <td>600.0</td>\n",
       "    </tr>\n",
       "  </tbody>\n",
       "</table>\n",
       "<p>303127 rows × 2 columns</p>\n",
       "</div>"
      ],
      "text/plain": [
       "                    page   price\n",
       "user_id day                     \n",
       "000096  2022-03-04     8   720.0\n",
       "        2022-03-22     7   720.0\n",
       "0000d4  2022-02-28     9   720.0\n",
       "        2022-03-27    10   720.0\n",
       "0000de  2022-02-11     6   660.0\n",
       "...                  ...     ...\n",
       "ffff18  2022-02-21     3     NaN\n",
       "        2022-03-28     4     NaN\n",
       "ffff62  2022-03-19     8  2220.0\n",
       "ffff8f  2022-02-05    12  2220.0\n",
       "        2022-02-13     8   600.0\n",
       "\n",
       "[303127 rows x 2 columns]"
      ]
     },
     "execution_count": 52,
     "metadata": {},
     "output_type": "execute_result"
    }
   ],
   "source": [
    "df_join"
   ]
  },
  {
   "cell_type": "code",
   "execution_count": 53,
   "metadata": {
    "colab": {
     "base_uri": "https://localhost:8080/"
    },
    "executionInfo": {
     "elapsed": 35,
     "status": "ok",
     "timestamp": 1674542204653,
     "user": {
      "displayName": "Nikolay Nazarov",
      "userId": "18018785782997408667"
     },
     "user_tz": -420
    },
    "id": "3auP0R_pE-8D",
    "outputId": "cf369066-f45c-4721-a1a9-56887799fb79"
   },
   "outputs": [
    {
     "data": {
      "text/plain": [
       "page     0.000000\n",
       "price    0.329802\n",
       "dtype: float64"
      ]
     },
     "execution_count": 53,
     "metadata": {},
     "output_type": "execute_result"
    }
   ],
   "source": [
    "# считаем доли нулей в столбцах\n",
    "df_join.isnull().mean()"
   ]
  },
  {
   "cell_type": "markdown",
   "metadata": {
    "id": "dilG9jVVE-8E"
   },
   "source": [
    "**Вывод:** \n",
    "- Если делал покупку, то заходил на сайт в этот день;\n",
    "- Если заходил на сайт, то не обязательно покупал;\n",
    "- Доля человеко-дней без покупок 33%."
   ]
  }
 ],
 "metadata": {
  "colab": {
   "collapsed_sections": [
    "KRzEGsPUE-7k"
   ],
   "provenance": []
  },
  "kernelspec": {
   "display_name": "base",
   "language": "python",
   "name": "python3"
  },
  "language_info": {
   "codemirror_mode": {
    "name": "ipython",
    "version": 3
   },
   "file_extension": ".py",
   "mimetype": "text/x-python",
   "name": "python",
   "nbconvert_exporter": "python",
   "pygments_lexer": "ipython3",
   "version": "3.12.7"
  }
 },
 "nbformat": 4,
 "nbformat_minor": 0
}
