{
 "cells": [
  {
   "cell_type": "code",
   "execution_count": 70,
   "metadata": {},
   "outputs": [],
   "source": [
    "import numpy as np\n",
    "import os\n",
    "import pandas as pd \n",
    "\n",
    "import warnings\n",
    "warnings.filterwarnings('ignore')"
   ]
  },
  {
   "cell_type": "code",
   "execution_count": 71,
   "metadata": {},
   "outputs": [],
   "source": [
    "URL_BASE = 'https://raw.githubusercontent.com/pashkovsn/pashkov.sergei/refs/heads/main/Study/karpov.courses/lesson1/'\n",
    "\n",
    "\n",
    "def read_database(file_name):\n",
    "    return pd.read_csv(os.path.join(URL_BASE, file_name))"
   ]
  },
  {
   "cell_type": "code",
   "execution_count": 72,
   "metadata": {},
   "outputs": [
    {
     "name": "stdout",
     "output_type": "stream",
     "text": [
      "   sale_id                 date  count_pizza  count_drink  price user_id\n",
      "0  1000001  2022-02-04 10:00:24            1            0    720  1c1543\n",
      "1  1000002  2022-02-04 10:02:28            1            1    930  a9a6e8\n",
      "2  1000003  2022-02-04 10:02:35            3            1   1980  23420a\n",
      "3  1000004  2022-02-04 10:03:06            1            1    750  3e8ed5\n",
      "4  1000005  2022-02-04 10:03:23            1            1    870  cbc468\n",
      "  user_id page                 date  load_time\n",
      "0  f25239    m  2022-02-03 23:45:37       80.8\n",
      "1  06d6df    m  2022-02-03 23:49:56       70.5\n",
      "2  06d6df    m  2022-02-03 23:51:16       89.7\n",
      "3  f25239    m  2022-02-03 23:51:43       74.4\n",
      "4  697870    m  2022-02-03 23:53:12       66.8\n"
     ]
    }
   ],
   "source": [
    "try:\n",
    "    df_sales = read_database('2022-04-01T12_df_sales.csv')\n",
    "    print(df_sales.head())\n",
    "except FileNotFoundError as e:\n",
    "    print(f\"File not found: {e}\")\n",
    "\n",
    "try:\n",
    "    df_web_logs = read_database('2022-04-01T12_df_web_logs.csv')\n",
    "    print(df_web_logs.head())\n",
    "except FileNotFoundError as e:\n",
    "    print(f\"File not found: {e}\")\n",
    "\n",
    "df_sales['date'] = pd.to_datetime(df_sales['date'])\n",
    "df_web_logs['date'] = pd.to_datetime(df_web_logs['date'])"
   ]
  },
  {
   "cell_type": "code",
   "execution_count": 73,
   "metadata": {},
   "outputs": [
    {
     "data": {
      "text/html": [
       "<div>\n",
       "<style scoped>\n",
       "    .dataframe tbody tr th:only-of-type {\n",
       "        vertical-align: middle;\n",
       "    }\n",
       "\n",
       "    .dataframe tbody tr th {\n",
       "        vertical-align: top;\n",
       "    }\n",
       "\n",
       "    .dataframe thead th {\n",
       "        text-align: right;\n",
       "    }\n",
       "</style>\n",
       "<table border=\"1\" class=\"dataframe\">\n",
       "  <thead>\n",
       "    <tr style=\"text-align: right;\">\n",
       "      <th></th>\n",
       "      <th>user_id</th>\n",
       "      <th>page</th>\n",
       "      <th>date</th>\n",
       "      <th>load_time</th>\n",
       "    </tr>\n",
       "  </thead>\n",
       "  <tbody>\n",
       "    <tr>\n",
       "      <th>0</th>\n",
       "      <td>f25239</td>\n",
       "      <td>m</td>\n",
       "      <td>2022-02-03 23:45:37</td>\n",
       "      <td>80.8</td>\n",
       "    </tr>\n",
       "    <tr>\n",
       "      <th>1</th>\n",
       "      <td>06d6df</td>\n",
       "      <td>m</td>\n",
       "      <td>2022-02-03 23:49:56</td>\n",
       "      <td>70.5</td>\n",
       "    </tr>\n",
       "    <tr>\n",
       "      <th>2</th>\n",
       "      <td>06d6df</td>\n",
       "      <td>m</td>\n",
       "      <td>2022-02-03 23:51:16</td>\n",
       "      <td>89.7</td>\n",
       "    </tr>\n",
       "    <tr>\n",
       "      <th>3</th>\n",
       "      <td>f25239</td>\n",
       "      <td>m</td>\n",
       "      <td>2022-02-03 23:51:43</td>\n",
       "      <td>74.4</td>\n",
       "    </tr>\n",
       "    <tr>\n",
       "      <th>4</th>\n",
       "      <td>697870</td>\n",
       "      <td>m</td>\n",
       "      <td>2022-02-03 23:53:12</td>\n",
       "      <td>66.8</td>\n",
       "    </tr>\n",
       "  </tbody>\n",
       "</table>\n",
       "</div>"
      ],
      "text/plain": [
       "  user_id page                date  load_time\n",
       "0  f25239    m 2022-02-03 23:45:37       80.8\n",
       "1  06d6df    m 2022-02-03 23:49:56       70.5\n",
       "2  06d6df    m 2022-02-03 23:51:16       89.7\n",
       "3  f25239    m 2022-02-03 23:51:43       74.4\n",
       "4  697870    m 2022-02-03 23:53:12       66.8"
      ]
     },
     "execution_count": 73,
     "metadata": {},
     "output_type": "execute_result"
    }
   ],
   "source": [
    "df_web_logs.head()"
   ]
  },
  {
   "cell_type": "code",
   "execution_count": 74,
   "metadata": {},
   "outputs": [],
   "source": [
    "df_web_logs = df_web_logs.sort_values(by=['user_id', 'date'])"
   ]
  },
  {
   "cell_type": "code",
   "execution_count": 75,
   "metadata": {},
   "outputs": [],
   "source": [
    "def get_sessions(user_data):\n",
    "    sessions = []\n",
    "    session_start = user_data.iloc[0]['date']\n",
    "    \n",
    "    for i in range(1, len(user_data)):\n",
    "        # Если разница во времени между текущим и предыдущим посещением больше порога, считаем сессию завершенной\n",
    "        time_diff = (user_data.iloc[i]['date'] - user_data.iloc[i-1]['date']).total_seconds()\n",
    "        \n",
    "        # Если разрыв больше порога (например, 30 минут)\n",
    "        if time_diff > 1800:  # 30 минут (1800 секунд)\n",
    "            session_end = user_data.iloc[i-1]['date']\n",
    "            sessions.append((user_id, session_start, session_end))\n",
    "            session_start = user_data.iloc[i]['date']  # Новая сессия начинается с текущего посещения\n",
    "    \n",
    "    # Добавляем последнюю сессию\n",
    "    session_end = user_data.iloc[-1]['date']\n",
    "    sessions.append((session_start, session_end))\n",
    "    \n",
    "    return pd.DataFrame(sessions, columns=['user_id', 'session_start', 'session_end'])\n",
    "\n",
    "\n",
    "def get_sessions(user_data):\n",
    "    sessions = []\n",
    "    session_start = user_data.iloc[0]['date']\n",
    "    user_id = user_data.iloc[0]['user_id']  # Получаем user_id из группы\n",
    "\n",
    "    for i in range(1, len(user_data)):\n",
    "        # Если разница во времени между текущим и предыдущим посещением больше порога, считаем сессию завершенной\n",
    "        time_diff = (user_data.iloc[i]['date'] - user_data.iloc[i-1]['date']).total_seconds()\n",
    "\n",
    "        if time_diff > 1800:  # 30 минут (1800 секунд)\n",
    "            session_end = user_data.iloc[i-1]['date']\n",
    "            sessions.append((user_id, session_start, session_end))\n",
    "            session_start = user_data.iloc[i]['date']  # Новая сессия начинается с текущего посещения\n",
    "\n",
    "    # Добавляем последнюю сессию\n",
    "    session_end = user_data.iloc[-1]['date']\n",
    "    sessions.append((user_id, session_start, session_end))\n",
    "\n",
    "    return pd.DataFrame(sessions, columns=['user_id', 'session_start', 'session_end'])"
   ]
  },
  {
   "cell_type": "code",
   "execution_count": 76,
   "metadata": {},
   "outputs": [],
   "source": [
    "df_sessions = df_web_logs.groupby('user_id').apply(get_sessions).reset_index(drop=True)"
   ]
  },
  {
   "cell_type": "code",
   "execution_count": 77,
   "metadata": {},
   "outputs": [
    {
     "data": {
      "text/html": [
       "<div>\n",
       "<style scoped>\n",
       "    .dataframe tbody tr th:only-of-type {\n",
       "        vertical-align: middle;\n",
       "    }\n",
       "\n",
       "    .dataframe tbody tr th {\n",
       "        vertical-align: top;\n",
       "    }\n",
       "\n",
       "    .dataframe thead th {\n",
       "        text-align: right;\n",
       "    }\n",
       "</style>\n",
       "<table border=\"1\" class=\"dataframe\">\n",
       "  <thead>\n",
       "    <tr style=\"text-align: right;\">\n",
       "      <th></th>\n",
       "      <th>user_id</th>\n",
       "      <th>date</th>\n",
       "      <th>session_start</th>\n",
       "    </tr>\n",
       "  </thead>\n",
       "  <tbody>\n",
       "    <tr>\n",
       "      <th>0</th>\n",
       "      <td>000096</td>\n",
       "      <td>2022-03-04 11:15:55</td>\n",
       "      <td>2022-03-04 10:58:01</td>\n",
       "    </tr>\n",
       "    <tr>\n",
       "      <th>1</th>\n",
       "      <td>000096</td>\n",
       "      <td>2022-03-22 13:16:09</td>\n",
       "      <td>2022-03-22 12:57:54</td>\n",
       "    </tr>\n",
       "  </tbody>\n",
       "</table>\n",
       "</div>"
      ],
      "text/plain": [
       "  user_id                date       session_start\n",
       "0  000096 2022-03-04 11:15:55 2022-03-04 10:58:01\n",
       "1  000096 2022-03-22 13:16:09 2022-03-22 12:57:54"
      ]
     },
     "execution_count": 77,
     "metadata": {},
     "output_type": "execute_result"
    }
   ],
   "source": [
    "merged_df = pd.merge(\n",
    "    df_sales,\n",
    "    df_sessions,\n",
    "    on='user_id',\n",
    "    how='inner'\n",
    ")\n",
    "\n",
    "merged_df = merged_df[\n",
    "    (merged_df['date'] >= merged_df['session_start']) &\n",
    "    ((merged_df['date'] - merged_df['session_start']).dt.total_seconds() <= 7200)  # 2 часа\n",
    "]\n",
    "\n",
    "merged_df = (\n",
    "    merged_df[['date', 'user_id', 'session_start']]\n",
    "    .groupby(['user_id','date'])\n",
    "    .agg(session_start=('session_start', min))\n",
    "    .reset_index()\n",
    ")\n",
    "merged_df.head(2)"
   ]
  },
  {
   "cell_type": "code",
   "execution_count": 78,
   "metadata": {},
   "outputs": [
    {
     "data": {
      "text/plain": [
       "16.559328973854573"
      ]
     },
     "execution_count": 78,
     "metadata": {},
     "output_type": "execute_result"
    }
   ],
   "source": [
    "merged_df['sale_speed'] = (merged_df['date'] - merged_df['session_start']).dt.seconds\n",
    "merged_df['sale_speed'].mean()/60"
   ]
  }
 ],
 "metadata": {
  "kernelspec": {
   "display_name": "base",
   "language": "python",
   "name": "python3"
  },
  "language_info": {
   "codemirror_mode": {
    "name": "ipython",
    "version": 3
   },
   "file_extension": ".py",
   "mimetype": "text/x-python",
   "name": "python",
   "nbconvert_exporter": "python",
   "pygments_lexer": "ipython3",
   "version": "3.12.7"
  }
 },
 "nbformat": 4,
 "nbformat_minor": 2
}
