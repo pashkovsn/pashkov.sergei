{
 "cells": [
  {
   "cell_type": "code",
   "execution_count": 1,
   "metadata": {},
   "outputs": [],
   "source": [
    "import numpy as np\n",
    "from scipy import stats\n",
    "import matplotlib.pyplot as plt\n",
    "import os\n",
    "import pandas as pd"
   ]
  },
  {
   "cell_type": "code",
   "execution_count": 9,
   "metadata": {},
   "outputs": [
    {
     "name": "stdout",
     "output_type": "stream",
     "text": [
      "   sale_id           good  price                 date user_id\n",
      "0  1000001  mexican pizza    720  2022-02-04 10:00:24  1c1543\n",
      "1  1000002    chefs pizza    840  2022-02-04 10:02:28  a9a6e8\n",
      "2  1000002   orange juice     90  2022-02-04 10:02:28  a9a6e8\n",
      "3  1000003   cheese pizza    600  2022-02-04 10:02:35  23420a\n",
      "4  1000003  italian pizza    720  2022-02-04 10:02:35  23420a\n"
     ]
    }
   ],
   "source": [
    "try:\n",
    "    df_sales_detail = pd.read_csv('2022-04-01T12_df_sales_detail.csv')\n",
    "    print(df_sales_detail.head())\n",
    "except FileNotFoundError as e:\n",
    "    print(f\"File not found: {e}\")"
   ]
  },
  {
   "cell_type": "code",
   "execution_count": 12,
   "metadata": {},
   "outputs": [
    {
     "data": {
      "text/plain": [
       "good\n",
       "chefs pizza               24558240\n",
       "double pepperoni pizza    22558380\n",
       "chicken bbq pizza         17622540\n",
       "Name: price, dtype: int64"
      ]
     },
     "execution_count": 12,
     "metadata": {},
     "output_type": "execute_result"
    }
   ],
   "source": [
    "# группировка данных\n",
    "df_sales_detail.groupby('good')['price'].sum().sort_values(ascending=False).head(3)"
   ]
  }
 ],
 "metadata": {
  "kernelspec": {
   "display_name": "base",
   "language": "python",
   "name": "python3"
  },
  "language_info": {
   "codemirror_mode": {
    "name": "ipython",
    "version": 3
   },
   "file_extension": ".py",
   "mimetype": "text/x-python",
   "name": "python",
   "nbconvert_exporter": "python",
   "pygments_lexer": "ipython3",
   "version": "3.12.7"
  }
 },
 "nbformat": 4,
 "nbformat_minor": 2
}
