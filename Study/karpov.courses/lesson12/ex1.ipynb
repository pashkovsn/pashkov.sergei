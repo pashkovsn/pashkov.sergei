{
 "cells": [
  {
   "cell_type": "code",
   "execution_count": 1,
   "metadata": {},
   "outputs": [],
   "source": [
    "import pandas as pd\n",
    "import datetime\n",
    "from scipy.stats import ttest_ind\n",
    "from scipy import stats as stats\n",
    "import numpy as np\n",
    "import seaborn as sns\n",
    "import matplotlib.pyplot as plt\n",
    "\n",
    "import warnings\n",
    "warnings.filterwarnings('ignore')"
   ]
  },
  {
   "cell_type": "code",
   "execution_count": 2,
   "metadata": {},
   "outputs": [
    {
     "data": {
      "text/html": [
       "<div>\n",
       "<style scoped>\n",
       "    .dataframe tbody tr th:only-of-type {\n",
       "        vertical-align: middle;\n",
       "    }\n",
       "\n",
       "    .dataframe tbody tr th {\n",
       "        vertical-align: top;\n",
       "    }\n",
       "\n",
       "    .dataframe thead th {\n",
       "        text-align: right;\n",
       "    }\n",
       "</style>\n",
       "<table border=\"1\" class=\"dataframe\">\n",
       "  <thead>\n",
       "    <tr style=\"text-align: right;\">\n",
       "      <th></th>\n",
       "      <th>user_id</th>\n",
       "      <th>page</th>\n",
       "      <th>date</th>\n",
       "      <th>load_time</th>\n",
       "    </tr>\n",
       "  </thead>\n",
       "  <tbody>\n",
       "    <tr>\n",
       "      <th>0</th>\n",
       "      <td>f25239</td>\n",
       "      <td>m</td>\n",
       "      <td>2022-02-03 23:45:37</td>\n",
       "      <td>80.8</td>\n",
       "    </tr>\n",
       "    <tr>\n",
       "      <th>1</th>\n",
       "      <td>06d6df</td>\n",
       "      <td>m</td>\n",
       "      <td>2022-02-03 23:49:56</td>\n",
       "      <td>70.5</td>\n",
       "    </tr>\n",
       "    <tr>\n",
       "      <th>2</th>\n",
       "      <td>06d6df</td>\n",
       "      <td>m</td>\n",
       "      <td>2022-02-03 23:51:16</td>\n",
       "      <td>89.7</td>\n",
       "    </tr>\n",
       "  </tbody>\n",
       "</table>\n",
       "</div>"
      ],
      "text/plain": [
       "  user_id page                date  load_time\n",
       "0  f25239    m 2022-02-03 23:45:37       80.8\n",
       "1  06d6df    m 2022-02-03 23:49:56       70.5\n",
       "2  06d6df    m 2022-02-03 23:51:16       89.7"
      ]
     },
     "execution_count": 2,
     "metadata": {},
     "output_type": "execute_result"
    }
   ],
   "source": [
    "df_web_logs = pd.read_csv('2022-04-13T12_df_web_logs.csv')\n",
    "df_web_logs['date'] = pd.to_datetime(df_web_logs['date'])\n",
    "df_web_logs.head(3)"
   ]
  },
  {
   "cell_type": "code",
   "execution_count": 5,
   "metadata": {},
   "outputs": [
    {
     "name": "stdout",
     "output_type": "stream",
     "text": [
      "(2401709, 4)\n",
      "The describe is\n",
      "\n",
      "           load_time\n",
      "count  2.401709e+06\n",
      "mean   7.397173e+01\n",
      "std    1.104418e+02\n",
      "min    0.000000e+00\n",
      "25%    6.190000e+01\n",
      "50%    7.000000e+01\n",
      "75%    7.810000e+01\n",
      "max    4.197500e+03\n",
      "The count is\n",
      "\n",
      " m    1563381\n",
      "b     588566\n",
      "p     249762\n",
      "Name: page, dtype: int64\n",
      "Duplicates count is \n",
      "\n",
      " 15\n",
      "Is NaN data 0\n"
     ]
    }
   ],
   "source": [
    "print(df_web_logs.shape)\n",
    "print('The describe is\\n\\n',df_web_logs.describe())\n",
    "print('The count is\\n\\n',df_web_logs['page'].value_counts())\n",
    "print('Duplicates count is \\n\\n', df_web_logs[['user_id','page','date','load_time']].duplicated().sum())\n",
    "print('Is NaN data', df_web_logs['load_time'].isna().sum())"
   ]
  },
  {
   "cell_type": "code",
   "execution_count": 6,
   "metadata": {},
   "outputs": [
    {
     "data": {
      "text/html": [
       "<div>\n",
       "<style scoped>\n",
       "    .dataframe tbody tr th:only-of-type {\n",
       "        vertical-align: middle;\n",
       "    }\n",
       "\n",
       "    .dataframe tbody tr th {\n",
       "        vertical-align: top;\n",
       "    }\n",
       "\n",
       "    .dataframe thead th {\n",
       "        text-align: right;\n",
       "    }\n",
       "</style>\n",
       "<table border=\"1\" class=\"dataframe\">\n",
       "  <thead>\n",
       "    <tr style=\"text-align: right;\">\n",
       "      <th></th>\n",
       "      <th>user_id</th>\n",
       "      <th>pilot</th>\n",
       "    </tr>\n",
       "  </thead>\n",
       "  <tbody>\n",
       "    <tr>\n",
       "      <th>0</th>\n",
       "      <td>c36b2e</td>\n",
       "      <td>0</td>\n",
       "    </tr>\n",
       "    <tr>\n",
       "      <th>1</th>\n",
       "      <td>20336e</td>\n",
       "      <td>0</td>\n",
       "    </tr>\n",
       "    <tr>\n",
       "      <th>2</th>\n",
       "      <td>034652</td>\n",
       "      <td>0</td>\n",
       "    </tr>\n",
       "  </tbody>\n",
       "</table>\n",
       "</div>"
      ],
      "text/plain": [
       "  user_id  pilot\n",
       "0  c36b2e      0\n",
       "1  20336e      0\n",
       "2  034652      0"
      ]
     },
     "execution_count": 6,
     "metadata": {},
     "output_type": "execute_result"
    }
   ],
   "source": [
    "user_experiment = pd.read_csv('experiment_users.csv')\n",
    "user_experiment.head(3)"
   ]
  },
  {
   "cell_type": "code",
   "execution_count": 11,
   "metadata": {},
   "outputs": [
    {
     "name": "stdout",
     "output_type": "stream",
     "text": [
      "Количество дублей 0 \n",
      "\n",
      "Распределение по группам\n",
      " 1    2773\n",
      "0    2683\n",
      "Name: pilot, dtype: int64\n"
     ]
    }
   ],
   "source": [
    "print('Количество дублей',user_experiment.duplicated().sum(),'\\n')\n",
    "print('Распределение по группам\\n',user_experiment['pilot'].value_counts())"
   ]
  },
  {
   "cell_type": "code",
   "execution_count": 48,
   "metadata": {},
   "outputs": [
    {
     "data": {
      "text/html": [
       "<div>\n",
       "<style scoped>\n",
       "    .dataframe tbody tr th:only-of-type {\n",
       "        vertical-align: middle;\n",
       "    }\n",
       "\n",
       "    .dataframe tbody tr th {\n",
       "        vertical-align: top;\n",
       "    }\n",
       "\n",
       "    .dataframe thead th {\n",
       "        text-align: right;\n",
       "    }\n",
       "</style>\n",
       "<table border=\"1\" class=\"dataframe\">\n",
       "  <thead>\n",
       "    <tr style=\"text-align: right;\">\n",
       "      <th></th>\n",
       "      <th>user_id</th>\n",
       "      <th>pilot</th>\n",
       "      <th>load_time</th>\n",
       "    </tr>\n",
       "  </thead>\n",
       "  <tbody>\n",
       "    <tr>\n",
       "      <th>0</th>\n",
       "      <td>c36b2e</td>\n",
       "      <td>0</td>\n",
       "      <td>[106.6, 49.6, 49.9, 75.7]</td>\n",
       "    </tr>\n",
       "    <tr>\n",
       "      <th>1</th>\n",
       "      <td>20336e</td>\n",
       "      <td>0</td>\n",
       "      <td>[61.6, 82.2, 67.4]</td>\n",
       "    </tr>\n",
       "    <tr>\n",
       "      <th>2</th>\n",
       "      <td>034652</td>\n",
       "      <td>0</td>\n",
       "      <td>[42.6, 68.6, 68.4, 63.5, 88.4, 68.9]</td>\n",
       "    </tr>\n",
       "    <tr>\n",
       "      <th>3</th>\n",
       "      <td>e98e3b</td>\n",
       "      <td>0</td>\n",
       "      <td>[62.3, 73.0, 80.5, 79.0, 73.9, 55.0, 64.0, 83....</td>\n",
       "    </tr>\n",
       "    <tr>\n",
       "      <th>4</th>\n",
       "      <td>3f1105</td>\n",
       "      <td>0</td>\n",
       "      <td>[84.0, 71.6, 64.2]</td>\n",
       "    </tr>\n",
       "  </tbody>\n",
       "</table>\n",
       "</div>"
      ],
      "text/plain": [
       "  user_id  pilot                                          load_time\n",
       "0  c36b2e      0                          [106.6, 49.6, 49.9, 75.7]\n",
       "1  20336e      0                                 [61.6, 82.2, 67.4]\n",
       "2  034652      0               [42.6, 68.6, 68.4, 63.5, 88.4, 68.9]\n",
       "3  e98e3b      0  [62.3, 73.0, 80.5, 79.0, 73.9, 55.0, 64.0, 83....\n",
       "4  3f1105      0                                 [84.0, 71.6, 64.2]"
      ]
     },
     "execution_count": 48,
     "metadata": {},
     "output_type": "execute_result"
    }
   ],
   "source": [
    "dt_beg = pd.datetime(2022,4,5)\n",
    "dt_end = pd.datetime(2022,4,12)\n",
    "\n",
    "df_metrics = (\n",
    "    df_web_logs[(df_web_logs['date']>=dt_beg) & (df_web_logs['date']<dt_end)]\n",
    "    .groupby('user_id')[['load_time']].agg(list)\n",
    "    .reset_index()\n",
    ")\n",
    "\n",
    "df = pd.merge(user_experiment,df_metrics,on='user_id',how='left')\n",
    "df.head()"
   ]
  },
  {
   "cell_type": "code",
   "execution_count": 49,
   "metadata": {},
   "outputs": [],
   "source": [
    "def check_linearization(a, b):\n",
    "    \"\"\"Проверка гипотезы с помощью линеаризации.\n",
    "    \n",
    "    a: List[np.array], список множеств длин сессий пользователей контрольной группы\n",
    "    b: List[np.array], список множеств длин сессий пользователей пилотной группы\n",
    "    \n",
    "    return: pvalue и точечную оценку.\n",
    "    \"\"\"\n",
    "    a_x = np.array([np.sum(row) for row in a])\n",
    "    a_y = np.array([len(row) for row in a])\n",
    "    b_x = np.array([np.sum(row) for row in b])\n",
    "    b_y = np.array([len(row) for row in b])\n",
    "    coef = np.sum(a_x) / np.sum(a_y)\n",
    "    a_lin = a_x - coef * a_y\n",
    "    b_lin = b_x - coef * b_y\n",
    "    _, pvalue = stats.ttest_ind(a_lin, b_lin)\n",
    "    delta = np.mean(b_lin) - np.mean(a_lin)\n",
    "    return pvalue, delta"
   ]
  },
  {
   "cell_type": "code",
   "execution_count": 51,
   "metadata": {},
   "outputs": [
    {
     "name": "stdout",
     "output_type": "stream",
     "text": [
      "pvalue = 0.0442\n"
     ]
    }
   ],
   "source": [
    "pvalue = check_linearization(df[df['pilot']==0]['load_time'].values,df[df['pilot']==1]['load_time'].values)[0]\n",
    "\n",
    "print(f'pvalue = {pvalue:0.4f}')"
   ]
  }
 ],
 "metadata": {
  "kernelspec": {
   "display_name": "base",
   "language": "python",
   "name": "python3"
  },
  "language_info": {
   "codemirror_mode": {
    "name": "ipython",
    "version": 3
   },
   "file_extension": ".py",
   "mimetype": "text/x-python",
   "name": "python",
   "nbconvert_exporter": "python",
   "pygments_lexer": "ipython3",
   "version": "3.9.12"
  }
 },
 "nbformat": 4,
 "nbformat_minor": 2
}
